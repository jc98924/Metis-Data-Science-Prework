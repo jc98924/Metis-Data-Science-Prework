{
 "cells": [
  {
   "cell_type": "code",
   "execution_count": 153,
   "metadata": {},
   "outputs": [],
   "source": [
    "import numpy as np"
   ]
  },
  {
   "cell_type": "code",
   "execution_count": 273,
   "metadata": {},
   "outputs": [],
   "source": [
    "A = np.array([[1, 2, 3], [2, 7, 4]])\n",
    "B = np.array([[1, -1], [0,1]])\n",
    "C = np.array([[5, -1], [9, 1], [6, 0]])\n",
    "D = np.array([[3, -2, -1], [1, 2, 3]])\n",
    "u = np.array([6, 2, -3, 5])\n",
    "v = np.array([3, 5, -1, 4])\n",
    "w = np.array([[1, 8, 0, 5]]).transpose()"
   ]
  },
  {
   "cell_type": "code",
   "execution_count": 272,
   "metadata": {},
   "outputs": [
    {
     "name": "stdout",
     "output_type": "stream",
     "text": [
      "[[1 2 3]\n",
      " [2 7 4]] \n",
      "\n",
      "[[ 1 -1]\n",
      " [ 0  1]] \n",
      "\n",
      "[[ 5 -1]\n",
      " [ 9  1]\n",
      " [ 6  0]] \n",
      "\n",
      "[[ 3 -2 -1]\n",
      " [ 1  2  3]] \n",
      "\n",
      "[ 6  2 -3  5] \n",
      "\n",
      "[ 3  5 -1  4] \n",
      "\n",
      "[[1]\n",
      " [8]\n",
      " [0]\n",
      " [5]] \n",
      "\n"
     ]
    }
   ],
   "source": [
    "print(A, '\\n')\n",
    "print(B, '\\n')\n",
    "print(C, '\\n')\n",
    "print(D, '\\n')\n",
    "print(u, '\\n')\n",
    "print(v, '\\n')\n",
    "print(w, '\\n')"
   ]
  },
  {
   "cell_type": "code",
   "execution_count": 161,
   "metadata": {},
   "outputs": [
    {
     "data": {
      "text/plain": [
       "{'A': (2, 3),\n",
       " 'B': (2, 2),\n",
       " 'C': (3, 2),\n",
       " 'D': (2, 3),\n",
       " 'u': (4,),\n",
       " 'v': (4,),\n",
       " 'w': (4, 1)}"
      ]
     },
     "execution_count": 161,
     "metadata": {},
     "output_type": "execute_result"
    }
   ],
   "source": [
    "dimension_dict = {\n",
    "    \"A\": A.shape,\n",
    "    \"B\": B.shape,\n",
    "    \"C\": C.shape,\n",
    "    \"D\": D.shape,\n",
    "    \"u\": u.shape,\n",
    "    \"v\": v.shape,\n",
    "    \"w\": w.shape\n",
    "}\n",
    "dimension_dict"
   ]
  },
  {
   "cell_type": "code",
   "execution_count": 267,
   "metadata": {},
   "outputs": [
    {
     "name": "stdout",
     "output_type": "stream",
     "text": [
      "[ 9  7 -4  9]\n",
      "[ 9  7 -4  9]\n"
     ]
    }
   ],
   "source": [
    "print(u + v)\n",
    "print(np.add(u,v))"
   ]
  },
  {
   "cell_type": "code",
   "execution_count": 268,
   "metadata": {},
   "outputs": [
    {
     "name": "stdout",
     "output_type": "stream",
     "text": [
      "[ 3 -3 -2  1]\n",
      "[ 3 -3 -2  1]\n"
     ]
    }
   ],
   "source": [
    "print(u - v)\n",
    "print(np.subtract(u,v))"
   ]
  },
  {
   "cell_type": "code",
   "execution_count": 269,
   "metadata": {},
   "outputs": [
    {
     "name": "stdout",
     "output_type": "stream",
     "text": [
      "[ 36  12 -18  30]\n",
      "[ 36  12 -18  30]\n"
     ]
    }
   ],
   "source": [
    "a = 6\n",
    "print(a*u)\n",
    "print(np.multiply(u,a))"
   ]
  },
  {
   "cell_type": "code",
   "execution_count": 172,
   "metadata": {},
   "outputs": [
    {
     "name": "stdout",
     "output_type": "stream",
     "text": [
      "51\n"
     ]
    }
   ],
   "source": [
    "# Dot product u.v\n",
    "print(np.dot(u,v))"
   ]
  },
  {
   "cell_type": "code",
   "execution_count": 175,
   "metadata": {},
   "outputs": [
    {
     "name": "stdout",
     "output_type": "stream",
     "text": [
      "8.602325267042627\n",
      "8.602325267042627\n"
     ]
    }
   ],
   "source": [
    "import math\n",
    "sum_sq = 0\n",
    "for coord in u:\n",
    "    sum_sq += coord**2\n",
    "print(math.sqrt(sum_sq))\n",
    "\n",
    "print(np.linalg.norm(u))"
   ]
  },
  {
   "cell_type": "code",
   "execution_count": 204,
   "metadata": {},
   "outputs": [
    {
     "name": "stdout",
     "output_type": "stream",
     "text": [
      "Cannot add matrices if the dimensions are not the same\n"
     ]
    }
   ],
   "source": [
    "# Question 12 Matrix Operation 1\n",
    "try:\n",
    "    print(np.add(A,C))\n",
    "except ValueError:\n",
    "    print('Cannot add matrices if the dimensions are not the same')\n"
   ]
  },
  {
   "cell_type": "code",
   "execution_count": 205,
   "metadata": {},
   "outputs": [
    {
     "name": "stdout",
     "output_type": "stream",
     "text": [
      "[[-4 -7 -3]\n",
      " [ 3  6  4]]\n"
     ]
    }
   ],
   "source": [
    "# Question 13 Matrix Operation 2\n",
    "try:\n",
    "    print(np.subtract(A,C.transpose()))\n",
    "except ValueError:\n",
    "    print('Cannot subtract matrices if the dimensions are not the same')\n"
   ]
  },
  {
   "cell_type": "code",
   "execution_count": 206,
   "metadata": {},
   "outputs": [
    {
     "name": "stdout",
     "output_type": "stream",
     "text": [
      "[[14  3  3]\n",
      " [ 2  7  9]]\n"
     ]
    }
   ],
   "source": [
    "# Question 14 Matrix Operation 3\n",
    "try:\n",
    "    print(np.add(C.transpose(),3*D))\n",
    "except ValueError:\n",
    "    print('Cannot add matrices if the dimensions are not the same')\n"
   ]
  },
  {
   "cell_type": "code",
   "execution_count": 208,
   "metadata": {},
   "outputs": [
    {
     "name": "stdout",
     "output_type": "stream",
     "text": [
      "[[-1 -5 -1]\n",
      " [ 2  7  4]]\n"
     ]
    }
   ],
   "source": [
    "# Question 15 Matrix Operation 4\n",
    "try:\n",
    "    print(np.matmul(B,A))\n",
    "except ValueError:\n",
    "    print(\"Cannot multiple matrices if the inner-dimensions are not the same\")"
   ]
  },
  {
   "cell_type": "code",
   "execution_count": 211,
   "metadata": {},
   "outputs": [
    {
     "name": "stdout",
     "output_type": "stream",
     "text": [
      "Cannot multiple matrices if the inner-dimensions are not the same\n"
     ]
    }
   ],
   "source": [
    "# Question 16 Matrix Operation 5\n",
    "try:\n",
    "    print(np.matmul(B,A.transpose()))\n",
    "except ValueError:\n",
    "    print(\"Cannot multiple matrices if the inner-dimensions are not the same\")\n"
   ]
  },
  {
   "cell_type": "code",
   "execution_count": 257,
   "metadata": {},
   "outputs": [
    {
     "data": {
      "text/plain": [
       "array([[ 1, -4],\n",
       "       [ 0,  1]])"
      ]
     },
     "execution_count": 257,
     "metadata": {},
     "output_type": "execute_result"
    }
   ],
   "source": [
    "# Question 17 Matrix Operation (Solution)\n",
    "B = np.array([[1, -1], [0,1]])\n",
    "np.linalg.matrix_power(B,4)\n"
   ]
  },
  {
   "cell_type": "code",
   "execution_count": 254,
   "metadata": {},
   "outputs": [
    {
     "name": "stdout",
     "output_type": "stream",
     "text": [
      "[[ 1 -4]\n",
      " [ 0  1]]\n"
     ]
    }
   ],
   "source": [
    "# Question 17 Matrix Operation (Solution 3)\n",
    "# B^4\n",
    "B = np.array([[1, -1], [0,1]])\n",
    "b_1 = np.matmul(B,B) # multiplication 1 happens here already\n",
    "b_2 = np.matmul(b_1, B) # multiplication 2 \n",
    "b_3 = np.matmul(b_2, B) # multiplication 3\n",
    "print(b_3)"
   ]
  },
  {
   "cell_type": "code",
   "execution_count": 255,
   "metadata": {},
   "outputs": [
    {
     "name": "stdout",
     "output_type": "stream",
     "text": [
      "[[ 1 -4]\n",
      " [ 0  1]]\n"
     ]
    }
   ],
   "source": [
    "# Question 17 Matrix Operation (Solution 3)\n",
    "\n",
    "B = np.array([[1, -1], [0,1]])\n",
    "power = 4\n",
    "for n in range(1, power - 1):\n",
    "    B = np.matmul(B,B)\n",
    "print(B)"
   ]
  },
  {
   "cell_type": "code",
   "execution_count": 270,
   "metadata": {},
   "outputs": [],
   "source": [
    "# Question 18: Coding (I just did above (-__-') )\n",
    "\n",
    "# Do not change these variables\n",
    "A = np.array([[1,2,3],[2,7,4]])\n",
    "B = np.array([[1,-1],[0,1]])\n",
    "C = np.array([[5,-1],[9,1],[6,0]])\n",
    "D = np.array([[3,-2,-1],[1,2,3]])\n",
    "\n",
    "u = np.array([6,2,-3,5])\n",
    "v = np.array([3,5,-1,4])\n",
    "\n",
    "# Q1: record the dimensions of A, B, C, D, u, v respectively in the dict below. \n",
    "#     Do not type the answers, make python do the work\n",
    "\n",
    "dimensions = {\n",
    "    'A': A.shape,\n",
    "    'B': B.shape,\n",
    "    'C': C.shape,\n",
    "    'D': D.shape,\n",
    "    'u': u.shape,\n",
    "    'v': v.shape\n",
    "}\n",
    "\n",
    "# Q2: vector operations\n",
    "#     assign `None` if the operation is not defined\n",
    "#     do not type the answers, make python do the work\n",
    "alpha = 6\n",
    "\n",
    "u_plus_v = u + v            # u+v\n",
    "u_minus_v = u - v           # u-v\n",
    "alpha_times_u = alpha * u       # alpha * u, alpha = 6\n",
    "u_dot_v = np.dot(u,v)             # u . v\n",
    "norm_u =  np.linalg.norm(u)             # ||u|| \n",
    "\n",
    "\n",
    "# Q3: compute the following and assign to variables below:\n",
    "#     assign `None` if the operation is not defined\n",
    "#     do not type the answers, make python do the work\n",
    "\n",
    "A_plus_C =  None           # A + C\n",
    "A_minus_Ctranspose = np.subtract(A, C.transpose())   # A - C.T\n",
    "Ctranspose_plus_3D = np.add(C.transpose(),(3*D))   # C.T + 3*D\n",
    "B_times_A = np.matmul(B,A)            # B*A\n",
    "B_times_Atranspose = None  # B*A.T\n",
    "\n",
    "# Q4: (bonus)\n",
    "\n",
    "B_times_C = None            # B*C\n",
    "C_times_B = np.matmul(C,B)            # C*B\n",
    "B_exp_4 =  np.linalg.matrix_power(B,4)             # B^4\n",
    "A_times_Atranspose = np.matmul(A,A.transpose())   # A*A.T\n",
    "Dtranspose_times_D = np.matmul(D.transpose(), D)   # D.T*D"
   ]
  },
  {
   "cell_type": "code",
   "execution_count": null,
   "metadata": {},
   "outputs": [],
   "source": []
  }
 ],
 "metadata": {
  "kernelspec": {
   "display_name": "Python 3",
   "language": "python",
   "name": "python3"
  },
  "language_info": {
   "codemirror_mode": {
    "name": "ipython",
    "version": 3
   },
   "file_extension": ".py",
   "mimetype": "text/x-python",
   "name": "python",
   "nbconvert_exporter": "python",
   "pygments_lexer": "ipython3",
   "version": "3.7.3"
  }
 },
 "nbformat": 4,
 "nbformat_minor": 2
}
