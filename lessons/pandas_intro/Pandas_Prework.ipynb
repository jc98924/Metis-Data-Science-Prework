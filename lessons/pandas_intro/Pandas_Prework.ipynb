{
 "cells": [
  {
   "cell_type": "markdown",
   "metadata": {},
   "source": [
    "## Python Pandas\n",
    "\n",
    "This question has several parts, evaluated in several test cases.  \n",
    "We will work with the \"olive\" dataset, here is some info:  \n",
    "\n",
    "```\n",
    ",region,area,palmitic,palmitoleic,stearic,oleic,linoleic,linolenic,arachidic,eicosenoic\n",
    "1.North-Apulia,1,1,1075,75,226,7823,672,36,60,29\n",
    "2.North-Apulia,1,1,1088,73,224,7709,781,31,61,29\n",
    "3.North-Apulia,1,1,911,54,246,8113,549,31,63,29\n",
    "4.North-Apulia,1,1,966,57,240,7952,619,50,78,35\n",
    "```\n",
    "\n",
    "**Description of Data:**  \n",
    "572 olive oil samples from 3 different regions (and 9 sub-regions) of Italy; for each sample the normalized concentrations of 8 fatty acids are given.  \n",
    "Source: http://www2.chemie.uni-erlangen.de/publications/ANN-book/datasets/oliveoil/  \n",
    "There are 3 regions:  \n",
    "* South\n",
    "* North\n",
    "* Sardinia\n",
    "\n",
    "There are 9 sub-regions(areas):  \n",
    "* North Apulia\n",
    "* South Apulia\n",
    "* Calabria\n",
    "* Sicily\n",
    "* Inland\n",
    "* Coastal Sardinia\n",
    "* Umbria\n",
    "* East\n",
    "* West Liguria  \n",
    "Supplemental Report: http://www.public.iastate.edu/~dicook/stat503/05/cs-olive.pdf"
   ]
  },
  {
   "cell_type": "markdown",
   "metadata": {},
   "source": [
    "#### Q1: Import numpy and pandas"
   ]
  },
  {
   "cell_type": "code",
   "execution_count": 104,
   "metadata": {},
   "outputs": [],
   "source": [
    "import numpy as np\n",
    "import pandas as pd"
   ]
  },
  {
   "cell_type": "markdown",
   "metadata": {},
   "source": [
    "#### Q2: Set options in pandas so it displays:\n",
    "* 30 `max_rows` \n",
    "* no limit on `max_columns`\n",
    "* precision is 3"
   ]
  },
  {
   "cell_type": "code",
   "execution_count": 105,
   "metadata": {},
   "outputs": [],
   "source": [
    "pd.set_option('display.max_rows', 30)\n",
    "pd.set_option('display.max_columns', None)\n",
    "pd.set_option('display.precision', 3)"
   ]
  },
  {
   "cell_type": "markdown",
   "metadata": {},
   "source": [
    "#### Q3: Assign the versions of pandas and numpy to variables below"
   ]
  },
  {
   "cell_type": "code",
   "execution_count": 106,
   "metadata": {},
   "outputs": [
    {
     "name": "stdout",
     "output_type": "stream",
     "text": [
      "0.24.2\n"
     ]
    }
   ],
   "source": [
    "\n",
    "pd_version = pd.__version__\n",
    "np_version = np.__version__\n",
    "print(pd_version)"
   ]
  },
  {
   "cell_type": "markdown",
   "metadata": {},
   "source": [
    "#### Q4: \n",
    "* Read in the csv file \"olive.csv\" with pandas. \n",
    "* The filename is stored in the variable `olive_path`\n",
    "* Assign it to variable `df`"
   ]
  },
  {
   "cell_type": "code",
   "execution_count": 107,
   "metadata": {},
   "outputs": [],
   "source": [
    "# Q4: Read in the csv file \"olive.csv\" with pandas. \n",
    "#     The filename is stored in the variable `olive_path`\n",
    "#     Assign it to variable `df`\n",
    "olive_path = 'olive.csv'\n",
    "\n",
    "df = pd.read_csv(olive_path)"
   ]
  },
  {
   "cell_type": "code",
   "execution_count": 108,
   "metadata": {},
   "outputs": [
    {
     "data": {
      "text/plain": [
       "(572, 11)"
      ]
     },
     "execution_count": 108,
     "metadata": {},
     "output_type": "execute_result"
    }
   ],
   "source": [
    "# Q5: How many rows and columns are there in `df`? Put your answer in a variable `df_shape`.\n",
    "df_shape = df.shape\n",
    "df_shape"
   ]
  },
  {
   "cell_type": "code",
   "execution_count": 109,
   "metadata": {},
   "outputs": [
    {
     "data": {
      "text/html": [
       "<div>\n",
       "<style scoped>\n",
       "    .dataframe tbody tr th:only-of-type {\n",
       "        vertical-align: middle;\n",
       "    }\n",
       "\n",
       "    .dataframe tbody tr th {\n",
       "        vertical-align: top;\n",
       "    }\n",
       "\n",
       "    .dataframe thead th {\n",
       "        text-align: right;\n",
       "    }\n",
       "</style>\n",
       "<table border=\"1\" class=\"dataframe\">\n",
       "  <thead>\n",
       "    <tr style=\"text-align: right;\">\n",
       "      <th></th>\n",
       "      <th>Unnamed: 0</th>\n",
       "      <th>region</th>\n",
       "      <th>area</th>\n",
       "      <th>palmitic</th>\n",
       "      <th>palmitoleic</th>\n",
       "      <th>stearic</th>\n",
       "      <th>oleic</th>\n",
       "      <th>linoleic</th>\n",
       "      <th>linolenic</th>\n",
       "      <th>arachidic</th>\n",
       "      <th>eicosenoic</th>\n",
       "    </tr>\n",
       "  </thead>\n",
       "  <tbody>\n",
       "    <tr>\n",
       "      <th>0</th>\n",
       "      <td>1.North-Apulia</td>\n",
       "      <td>1</td>\n",
       "      <td>1</td>\n",
       "      <td>1075</td>\n",
       "      <td>75</td>\n",
       "      <td>226</td>\n",
       "      <td>7823</td>\n",
       "      <td>672</td>\n",
       "      <td>36</td>\n",
       "      <td>60</td>\n",
       "      <td>29</td>\n",
       "    </tr>\n",
       "    <tr>\n",
       "      <th>1</th>\n",
       "      <td>2.North-Apulia</td>\n",
       "      <td>1</td>\n",
       "      <td>1</td>\n",
       "      <td>1088</td>\n",
       "      <td>73</td>\n",
       "      <td>224</td>\n",
       "      <td>7709</td>\n",
       "      <td>781</td>\n",
       "      <td>31</td>\n",
       "      <td>61</td>\n",
       "      <td>29</td>\n",
       "    </tr>\n",
       "  </tbody>\n",
       "</table>\n",
       "</div>"
      ],
      "text/plain": [
       "       Unnamed: 0  region  area  palmitic  palmitoleic  stearic  oleic  \\\n",
       "0  1.North-Apulia       1     1      1075           75      226   7823   \n",
       "1  2.North-Apulia       1     1      1088           73      224   7709   \n",
       "\n",
       "   linoleic  linolenic  arachidic  eicosenoic  \n",
       "0       672         36         60          29  \n",
       "1       781         31         61          29  "
      ]
     },
     "execution_count": 109,
     "metadata": {},
     "output_type": "execute_result"
    }
   ],
   "source": [
    "# Q6: assign the first 2 rows of `df` to `df_first_two`\n",
    "df_first_two = df.iloc[0:2]\n",
    "df_first_two"
   ]
  },
  {
   "cell_type": "code",
   "execution_count": 111,
   "metadata": {},
   "outputs": [
    {
     "name": "stdout",
     "output_type": "stream",
     "text": [
      "2\n"
     ]
    }
   ],
   "source": [
    "# Q7: How many distinct data types are there in `df`?\n",
    "df_data_types_count = len(df.dtypes.unique()) \n",
    "print(df_data_types_count)# this should be an integer"
   ]
  },
  {
   "cell_type": "code",
   "execution_count": 112,
   "metadata": {},
   "outputs": [],
   "source": [
    "# Q8: In `df`, create a new column 'sub_region_raw', which will be a copy of the column 'Unnamed: 0'\n",
    "df['sub_region_raw'] = df['Unnamed: 0']\n",
    "\n",
    "\n"
   ]
  },
  {
   "cell_type": "code",
   "execution_count": 113,
   "metadata": {},
   "outputs": [],
   "source": [
    "# Q9: In `df`, rename 'Unnamed: 0' to 'sub_region_desc'\n",
    "df.rename(columns = {'Unnamed: 0': 'sub_region_desc'}, inplace = True)\n"
   ]
  },
  {
   "cell_type": "code",
   "execution_count": 114,
   "metadata": {},
   "outputs": [],
   "source": [
    "# Q10: In `df`, rename the column 'area' to: 'sub_region'\n",
    "df.rename(columns = {'area': 'sub_region'}, inplace = True)\n"
   ]
  },
  {
   "cell_type": "code",
   "execution_count": 115,
   "metadata": {},
   "outputs": [],
   "source": [
    "# Q11: In `df`, get the unique values of the field 'region'\n",
    "region_unique = df.region.unique()\n"
   ]
  },
  {
   "cell_type": "code",
   "execution_count": 116,
   "metadata": {},
   "outputs": [
    {
     "name": "stdout",
     "output_type": "stream",
     "text": [
      "9\n"
     ]
    }
   ],
   "source": [
    "# Q12: In `df`, how many unique values of the field 'sub_region' are there?\n",
    "sub_region_unique_count = len(df.sub_region.unique()) # should be an integer\n",
    "print(sub_region_unique_count)\n"
   ]
  },
  {
   "cell_type": "code",
   "execution_count": 93,
   "metadata": {},
   "outputs": [],
   "source": [
    "# Q13:\n",
    "# >>> df['sub_region_desc'].head(5)\n",
    "# 0    1.North-Apulia\n",
    "# 1    2.North-Apulia\n",
    "# 2    3.North-Apulia\n",
    "# 3    4.North-Apulia\n",
    "# 4    5.North-Apulia\n",
    "\n",
    "# Looks like 'sub_region_desc' has line numbers attached to the beginning of region name. Remove those and get the unique values in that field, assign it to `srd_unique`\n",
    "srd_unique = [val[val.find('.')+1:] for val in df['sub_region_desc']]"
   ]
  },
  {
   "cell_type": "code",
   "execution_count": null,
   "metadata": {},
   "outputs": [],
   "source": []
  }
 ],
 "metadata": {
  "kernelspec": {
   "display_name": "Python 3",
   "language": "python",
   "name": "python3"
  },
  "language_info": {
   "codemirror_mode": {
    "name": "ipython",
    "version": 3
   },
   "file_extension": ".py",
   "mimetype": "text/x-python",
   "name": "python",
   "nbconvert_exporter": "python",
   "pygments_lexer": "ipython3",
   "version": "3.7.3"
  }
 },
 "nbformat": 4,
 "nbformat_minor": 2
}
