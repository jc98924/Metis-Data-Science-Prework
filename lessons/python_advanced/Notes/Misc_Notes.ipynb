{
 "cells": [
  {
   "cell_type": "markdown",
   "metadata": {},
   "source": [
    "## DefaultDict\n",
    "\n",
    "Dictionaries expect that you will create a key-value pair before using the value. That's pretty reasonable most of the time, but sometimes you just want it to assume some basic value whenever a new key is entered. See this example."
   ]
  },
  {
   "cell_type": "code",
   "execution_count": 14,
   "metadata": {},
   "outputs": [
    {
     "name": "stdout",
     "output_type": "stream",
     "text": [
      "duck\n",
      "duck\n",
      "duck\n"
     ]
    },
    {
     "ename": "KeyError",
     "evalue": "'goose'",
     "output_type": "error",
     "traceback": [
      "\u001b[0;31m---------------------------------------------------------------------------\u001b[0m",
      "\u001b[0;31mKeyError\u001b[0m                                  Traceback (most recent call last)",
      "\u001b[0;32m<ipython-input-14-ffb0679c8b36>\u001b[0m in \u001b[0;36m<module>\u001b[0;34m\u001b[0m\n\u001b[1;32m      3\u001b[0m \u001b[0manimals\u001b[0m \u001b[0;34m=\u001b[0m \u001b[0;34m[\u001b[0m\u001b[0;34m'duck'\u001b[0m\u001b[0;34m,\u001b[0m\u001b[0;34m'duck'\u001b[0m\u001b[0;34m,\u001b[0m\u001b[0;34m'duck'\u001b[0m\u001b[0;34m,\u001b[0m\u001b[0;34m'goose'\u001b[0m\u001b[0;34m]\u001b[0m\u001b[0;34m\u001b[0m\u001b[0;34m\u001b[0m\u001b[0m\n\u001b[1;32m      4\u001b[0m \u001b[0;32mfor\u001b[0m \u001b[0manimal\u001b[0m \u001b[0;32min\u001b[0m \u001b[0manimals\u001b[0m\u001b[0;34m:\u001b[0m\u001b[0;34m\u001b[0m\u001b[0;34m\u001b[0m\u001b[0m\n\u001b[0;32m----> 5\u001b[0;31m     \u001b[0mcount\u001b[0m\u001b[0;34m[\u001b[0m\u001b[0manimal\u001b[0m\u001b[0;34m]\u001b[0m \u001b[0;34m+=\u001b[0m \u001b[0;36m1\u001b[0m\u001b[0;34m\u001b[0m\u001b[0;34m\u001b[0m\u001b[0m\n\u001b[0m\u001b[1;32m      6\u001b[0m     \u001b[0mprint\u001b[0m\u001b[0;34m(\u001b[0m\u001b[0manimal\u001b[0m\u001b[0;34m)\u001b[0m\u001b[0;34m\u001b[0m\u001b[0;34m\u001b[0m\u001b[0m\n",
      "\u001b[0;31mKeyError\u001b[0m: 'goose'"
     ]
    }
   ],
   "source": [
    "count = {}\n",
    "count['duck'] = 0\n",
    "animals = ['duck','duck','duck','goose']\n",
    "for animal in animals:\n",
    "    count[animal] += 1\n",
    "    print(animal)\n"
   ]
  },
  {
   "cell_type": "code",
   "execution_count": 15,
   "metadata": {},
   "outputs": [
    {
     "data": {
      "text/plain": [
       "{'duck': 3, 'goose': 1, 'cow': 2, 'monkey': 1}"
      ]
     },
     "execution_count": 15,
     "metadata": {},
     "output_type": "execute_result"
    }
   ],
   "source": [
    "count = {}\n",
    "animals = ['duck','duck','duck','goose', 'cow', 'cow', 'monkey']\n",
    "\n",
    "for animal in animals:\n",
    "    try:\n",
    "        count[animal] += 1\n",
    "    except KeyError:\n",
    "        count[animal] = 1\n",
    "count"
   ]
  },
  {
   "cell_type": "code",
   "execution_count": 25,
   "metadata": {},
   "outputs": [
    {
     "data": {
      "text/plain": [
       "defaultdict(float, {'duck': 3.0, 'goose': 1.0, 'cow': 2.0, 'monkey': 1.0})"
      ]
     },
     "execution_count": 25,
     "metadata": {},
     "output_type": "execute_result"
    }
   ],
   "source": [
    "from collections import defaultdict\n",
    "\n",
    "count = defaultdict(float)\n",
    "animals = ['duck','duck','duck','goose', 'cow', 'cow', 'monkey']\n",
    "\n",
    "for animal in animals:\n",
    "    count[animal] += 1\n",
    "count"
   ]
  },
  {
   "cell_type": "code",
   "execution_count": 28,
   "metadata": {},
   "outputs": [
    {
     "name": "stdout",
     "output_type": "stream",
     "text": [
      "Chunk Monkey\n",
      "Vanilla\n"
     ]
    }
   ],
   "source": [
    "from collections import defaultdict\n",
    "ice_cream = defaultdict(lambda: 'Vanilla')\n",
    "\n",
    "ice_cream['Sarah'] = 'Chunk Monkey'\n",
    "ice_cream['Abdul'] = 'Butter Pecan'\n",
    "print (ice_cream['Sarah'])\n",
    "print (ice_cream['Joe'])"
   ]
  },
  {
   "cell_type": "code",
   "execution_count": 31,
   "metadata": {},
   "outputs": [
    {
     "name": "stdout",
     "output_type": "stream",
     "text": [
      "['spam', 'spam', 'spam', 'spam', 'spam', 'spam', 'eggs', 'spam']\n",
      "defaultdict(<class 'int'>, {'spam': 7, 'eggs': 1})\n"
     ]
    }
   ],
   "source": [
    "from collections import defaultdict\n",
    "food_list = 'spam spam spam spam spam spam eggs spam'.split()\n",
    "print(food_list)\n",
    "food_counter = defaultdict(int)\n",
    "for item in food_list:\n",
    "    food_counter[item] += 1\n",
    "print(food_counter)"
   ]
  },
  {
   "cell_type": "markdown",
   "metadata": {},
   "source": [
    "## Named Tuple\n",
    "\n",
    "Sometimes you want to create a class, but the class only needs to store data, and you are lazy.    \n",
    "\n",
    "You could put the data in a dictionary, but there is a set amount of info that never changes for each instance. You could put the data in a tuple, but then you need to remember the order. What if you could have the simplicity of a tuple, but labels like a dictionary, and access methods by name like a dictionary? That's a **named tuple**."
   ]
  },
  {
   "cell_type": "code",
   "execution_count": 35,
   "metadata": {},
   "outputs": [
    {
     "data": {
      "text/plain": [
       "Alumni(name='Alice', age=29, gender='F', degree='PhD', title='Data Scientist', salary=115000, employer='Thumbtack')"
      ]
     },
     "execution_count": 35,
     "metadata": {},
     "output_type": "execute_result"
    }
   ],
   "source": [
    "from collections import namedtuple\n",
    "\n",
    "alumni = namedtuple('Alumni', 'name age gender degree title salary employer')\n",
    "\n",
    "alice = alumni(name= 'Alice',\n",
    "               age = 29,\n",
    "               gender = 'F',\n",
    "               degree = 'PhD',\n",
    "               title = 'Data Scientist',\n",
    "               salary = 115000,\n",
    "               employer = 'Thumbtack')\n",
    "alice\n"
   ]
  },
  {
   "cell_type": "code",
   "execution_count": 37,
   "metadata": {},
   "outputs": [
    {
     "name": "stdout",
     "output_type": "stream",
     "text": [
      "Representation: ('Bob', 30, 'male')\n",
      "\n",
      "Field by index: Jane\n"
     ]
    }
   ],
   "source": [
    "#Regular Tuples\n",
    "bob = ('Bob', 30, 'male')\n",
    "print('Representation:', bob)\n",
    "\n",
    "jane = ('Jane', 29, 'female')\n",
    "print ('\\nField by index:', jane[0])"
   ]
  },
  {
   "cell_type": "code",
   "execution_count": 42,
   "metadata": {},
   "outputs": [
    {
     "data": {
      "text/plain": [
       "(28, 'University of North Carolina at Chapel Hill')"
      ]
     },
     "execution_count": 42,
     "metadata": {},
     "output_type": "execute_result"
    }
   ],
   "source": [
    "from collections import namedtuple\n",
    "\n",
    "friends = namedtuple('Friends', 'name age gender degree college')\n",
    "\n",
    "johnny = friends(name = 'Johnny',\n",
    "                 age = 28,\n",
    "                 gender = 'M',\n",
    "                 degree = 'Economics',\n",
    "                 college = 'University of North Carolina at Chapel Hill')\n",
    "johnny.age, johnny.college\n"
   ]
  },
  {
   "cell_type": "markdown",
   "metadata": {},
   "source": [
    "## Deque\n",
    "A deque (double-ended queue) is a lovely type of object that's designed for accessing data on either end. A normal list is only optimized for adding-removing from the right with things like append and pop. Deque's are designed to be ambivalent about sides. "
   ]
  },
  {
   "cell_type": "code",
   "execution_count": 45,
   "metadata": {},
   "outputs": [
    {
     "data": {
      "text/plain": [
       "deque([3, 1, 2, 3, 4])"
      ]
     },
     "execution_count": 45,
     "metadata": {},
     "output_type": "execute_result"
    }
   ],
   "source": [
    "from collections import deque\n",
    "\n",
    "d = deque([1,2,3,4])\n",
    "d.appendleft(3)\n",
    "d\n"
   ]
  },
  {
   "cell_type": "code",
   "execution_count": 46,
   "metadata": {},
   "outputs": [
    {
     "data": {
      "text/plain": [
       "deque([1, 2, 3, 4])"
      ]
     },
     "execution_count": 46,
     "metadata": {},
     "output_type": "execute_result"
    }
   ],
   "source": [
    "d.popleft()\n",
    "d"
   ]
  },
  {
   "cell_type": "code",
   "execution_count": 49,
   "metadata": {},
   "outputs": [
    {
     "name": "stdout",
     "output_type": "stream",
     "text": [
      "deque([0], maxlen=4)\n",
      "deque([0, 1], maxlen=4)\n",
      "deque([0, 1, 2], maxlen=4)\n",
      "deque([0, 1, 2, 3], maxlen=4)\n",
      "deque([1, 2, 3, 4], maxlen=4)\n",
      "deque([2, 3, 4, 5], maxlen=4)\n",
      "deque([3, 4, 5, 6], maxlen=4)\n",
      "deque([4, 5, 6, 7], maxlen=4)\n",
      "deque([5, 6, 7, 8], maxlen=4)\n",
      "deque([6, 7, 8, 9], maxlen=4)\n",
      "---SWITCH---\n",
      "deque([0, 6, 7, 8], maxlen=4)\n",
      "deque([1, 0, 6, 7], maxlen=4)\n",
      "deque([2, 1, 0, 6], maxlen=4)\n",
      "deque([3, 2, 1, 0], maxlen=4)\n",
      "deque([4, 3, 2, 1], maxlen=4)\n",
      "deque([5, 4, 3, 2], maxlen=4)\n",
      "deque([6, 5, 4, 3], maxlen=4)\n",
      "deque([7, 6, 5, 4], maxlen=4)\n",
      "deque([8, 7, 6, 5], maxlen=4)\n",
      "deque([9, 8, 7, 6], maxlen=4)\n"
     ]
    }
   ],
   "source": [
    "window = deque(maxlen=4)\n",
    "for idx in range(10):\n",
    "    window.append(idx)\n",
    "    print(window)\n",
    "print(\"---SWITCH---\")\n",
    "for idx in range(10):\n",
    "    window.appendleft(idx)\n",
    "    print(window)"
   ]
  },
  {
   "cell_type": "markdown",
   "metadata": {},
   "source": [
    "#### Generators\n",
    "Generators aren't in the `collections` package, but are instead a standard part of Python 3. They're extremely powerful and solve a lot of problems for us.\n",
    "\n",
    "Often times in an analysis, we don't really want to load a whole thing into memory. We really just want a `cursor` that knows where it is in the data. For instance, imagine I was trying to load all the books ever written into Python... that's too big for my RAM. However, if I just had an object that kept track of which book it was on, and what page it needs to read next, I could load things page-by-page. That's exactly what a generator does (albeit, I've oversimplified a bit). \n",
    "\n",
    "We can use that to give us data over and over, without having to pre-generate all the data. Let's see an example."
   ]
  },
  {
   "cell_type": "code",
   "execution_count": 51,
   "metadata": {},
   "outputs": [
    {
     "name": "stdout",
     "output_type": "stream",
     "text": [
      "1\n",
      "2\n",
      "3\n",
      "4\n",
      "5\n",
      "6\n",
      "7\n",
      "8\n",
      "9\n",
      "10\n"
     ]
    }
   ],
   "source": [
    "def generate_numbers():\n",
    "    \"\"\"\n",
    "    An infinite number generator\n",
    "    \"\"\"\n",
    "    \n",
    "    x = 0\n",
    "    while True:\n",
    "        x += 1\n",
    "        yield x\n",
    "my_generator = generate_numbers()\n",
    "for interation in range(10):\n",
    "    next_number = next(my_generator)\n",
    "    print(next_number)"
   ]
  },
  {
   "cell_type": "code",
   "execution_count": null,
   "metadata": {},
   "outputs": [],
   "source": []
  }
 ],
 "metadata": {
  "kernelspec": {
   "display_name": "Python 3",
   "language": "python",
   "name": "python3"
  },
  "language_info": {
   "codemirror_mode": {
    "name": "ipython",
    "version": 3
   },
   "file_extension": ".py",
   "mimetype": "text/x-python",
   "name": "python",
   "nbconvert_exporter": "python",
   "pygments_lexer": "ipython3",
   "version": "3.7.3"
  }
 },
 "nbformat": 4,
 "nbformat_minor": 2
}
