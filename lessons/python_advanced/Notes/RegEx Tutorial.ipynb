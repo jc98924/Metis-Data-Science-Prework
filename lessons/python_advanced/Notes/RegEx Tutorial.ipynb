{
 "cells": [
  {
   "cell_type": "markdown",
   "metadata": {},
   "source": [
    "** '\\s\\"
   ]
  },
  {
   "cell_type": "code",
   "execution_count": 21,
   "metadata": {},
   "outputs": [
    {
     "data": {
      "text/plain": [
       "'\\nregex pattern is a special language used to represent generic text, \\nnumbers or symbols so it can be used to extract texts to conform to that pattern\\n'"
      ]
     },
     "execution_count": 21,
     "metadata": {},
     "output_type": "execute_result"
    }
   ],
   "source": [
    "import re\n",
    "regex = re.compile('\\s+')\n",
    "\"\"\"\n",
    "regex pattern is a special language used to represent generic text, \n",
    "numbers or symbols so it can be used to extract texts to conform to that pattern\n",
    "\"\"\""
   ]
  },
  {
   "cell_type": "code",
   "execution_count": 11,
   "metadata": {},
   "outputs": [],
   "source": [
    "text = \"101 COM    Computers    205 MAT   Mathematics    189 ENG   English\""
   ]
  },
  {
   "cell_type": "code",
   "execution_count": 13,
   "metadata": {},
   "outputs": [
    {
     "data": {
      "text/plain": [
       "['101',\n",
       " 'COM',\n",
       " 'Computers',\n",
       " '205',\n",
       " 'MAT',\n",
       " 'Mathematics',\n",
       " '189',\n",
       " 'ENG',\n",
       " 'English']"
      ]
     },
     "execution_count": 13,
     "metadata": {},
     "output_type": "execute_result"
    }
   ],
   "source": [
    "re.split('\\s+', text)\n",
    "\n"
   ]
  },
  {
   "cell_type": "code",
   "execution_count": 18,
   "metadata": {},
   "outputs": [
    {
     "data": {
      "text/plain": [
       "['101',\n",
       " 'COM',\n",
       " 'Computers',\n",
       " '205',\n",
       " 'MAT',\n",
       " 'Mathematics',\n",
       " '189',\n",
       " 'ENG',\n",
       " 'English']"
      ]
     },
     "execution_count": 18,
     "metadata": {},
     "output_type": "execute_result"
    }
   ],
   "source": [
    "regex.split(text)"
   ]
  },
  {
   "cell_type": "code",
   "execution_count": 22,
   "metadata": {},
   "outputs": [
    {
     "name": "stdout",
     "output_type": "stream",
     "text": [
      "101 COM    Computers    205 MAT   Mathematics    189 ENG   English\n"
     ]
    },
    {
     "data": {
      "text/plain": [
       "['101', '205', '189']"
      ]
     },
     "execution_count": 22,
     "metadata": {},
     "output_type": "execute_result"
    }
   ],
   "source": [
    "print(text)\n",
    "regex_num = re.compile('\\d+') #if you use * instead of it, requires 0 or more digits\n",
    "regex_num.findall(text)"
   ]
  },
  {
   "cell_type": "code",
   "execution_count": 29,
   "metadata": {},
   "outputs": [],
   "source": [
    "text2 = 'COM   Computers  205 Mat   Mathematics 189'"
   ]
  },
  {
   "cell_type": "code",
   "execution_count": 33,
   "metadata": {},
   "outputs": [
    {
     "name": "stdout",
     "output_type": "stream",
     "text": [
      "Start Position:  17\n",
      "Ending Position:  20\n",
      "205\n",
      "205\n"
     ]
    }
   ],
   "source": [
    "#compile the regex and search the pattern\n",
    "regex_num = re.compile('\\d+')\n",
    "s = regex_num.search(text2)\n",
    "\n",
    "print('Start Position: ', s.start())\n",
    "print('Ending Position: ', s.end())\n",
    "print(text2[s.start():s.end()])\n",
    "#can also get the same output as above via:\n",
    "print(s.group())"
   ]
  },
  {
   "cell_type": "code",
   "execution_count": 43,
   "metadata": {},
   "outputs": [
    {
     "name": "stdout",
     "output_type": "stream",
     "text": [
      "101   COM \t  Computers\n",
      "205   MAT \t  Mathematics\n",
      "189   ENG  \t  English\n"
     ]
    }
   ],
   "source": [
    "#replace texts, using regex.sub()\n",
    "text3 = \"\"\"101   COM \\t  Computers\n",
    "205   MAT \\t  Mathematics\n",
    "189   ENG  \\t  English\"\"\"  \n",
    "print(text3)"
   ]
  },
  {
   "cell_type": "code",
   "execution_count": 44,
   "metadata": {},
   "outputs": [
    {
     "name": "stdout",
     "output_type": "stream",
     "text": [
      "101 COM Computers 205 MAT Mathematics 189 ENG English\n"
     ]
    }
   ],
   "source": [
    "regex = re.compile('\\s+')\n",
    "#print(regex.sub(' ', text3))\n",
    "# or\n",
    "print(re.sub('\\s+',' ', text3))"
   ]
  },
  {
   "cell_type": "code",
   "execution_count": 68,
   "metadata": {},
   "outputs": [
    {
     "name": "stdout",
     "output_type": "stream",
     "text": [
      "101   COM \t  Computers\n",
      "205   MAT \t  Mathematics\n",
      "189   ENG  \t  English\n"
     ]
    }
   ],
   "source": [
    "#replace texts, using regex.sub()\n",
    "text3 = \"\"\"101   COM \\t  Computers\n",
    "205   MAT \\t  Mathematics\n",
    "189   ENG  \\t  English\"\"\"  \n",
    "print(text3)"
   ]
  },
  {
   "cell_type": "code",
   "execution_count": 71,
   "metadata": {},
   "outputs": [],
   "source": [
    "regex = re.compile('((?!\\n)\\s+)')"
   ]
  },
  {
   "cell_type": "code",
   "execution_count": 72,
   "metadata": {},
   "outputs": [
    {
     "name": "stdout",
     "output_type": "stream",
     "text": [
      "101 COM Computers\n",
      "205 MAT Mathematics\n",
      "189 ENG English\n"
     ]
    }
   ],
   "source": [
    "print(regex.sub(' ',text3))"
   ]
  },
  {
   "cell_type": "code",
   "execution_count": 73,
   "metadata": {},
   "outputs": [],
   "source": [
    "text4 = \"\"\"101   COM   Computers\n",
    "205   MAT   Mathematics\n",
    "189   ENG    English\"\"\"  "
   ]
  },
  {
   "cell_type": "code",
   "execution_count": 74,
   "metadata": {},
   "outputs": [
    {
     "data": {
      "text/plain": [
       "['101', '205', '189']"
      ]
     },
     "execution_count": 74,
     "metadata": {},
     "output_type": "execute_result"
    }
   ],
   "source": [
    "# 1.extract course numbers\n",
    "re.findall('[0-9]+', text4)"
   ]
  },
  {
   "cell_type": "code",
   "execution_count": 78,
   "metadata": {},
   "outputs": [
    {
     "data": {
      "text/plain": [
       "['COM', 'MAT', 'ENG']"
      ]
     },
     "execution_count": 78,
     "metadata": {},
     "output_type": "execute_result"
    }
   ],
   "source": [
    "# 2.extract all course codes\n",
    "re.findall('[A-Z]{3}', text4)"
   ]
  },
  {
   "cell_type": "code",
   "execution_count": 79,
   "metadata": {},
   "outputs": [
    {
     "data": {
      "text/plain": [
       "['Computers', 'Mathematics', 'English']"
      ]
     },
     "execution_count": 79,
     "metadata": {},
     "output_type": "execute_result"
    }
   ],
   "source": [
    "# 3. extract all course names\n",
    "re.findall('[A-Za-z]{4,}',text4)"
   ]
  },
  {
   "cell_type": "code",
   "execution_count": 80,
   "metadata": {},
   "outputs": [],
   "source": [
    "course_pattern = '([0-9]+)\\s*([A-Z]{3})\\s*([A-Za-z]{4,})'"
   ]
  },
  {
   "cell_type": "code",
   "execution_count": 82,
   "metadata": {},
   "outputs": [
    {
     "data": {
      "text/plain": [
       "[('101', 'COM', 'Computers'),\n",
       " ('205', 'MAT', 'Mathematics'),\n",
       " ('189', 'ENG', 'English')]"
      ]
     },
     "execution_count": 82,
     "metadata": {},
     "output_type": "execute_result"
    }
   ],
   "source": [
    "re.findall(course_pattern,text4)"
   ]
  },
  {
   "cell_type": "code",
   "execution_count": 89,
   "metadata": {},
   "outputs": [
    {
     "name": "stdout",
     "output_type": "stream",
     "text": [
      "['m', 'a', 'c', 'h', 'i', 'n', 'e', 'l', 'e', 'a', 'r', 'n', 'i', 'n', 'g', 'p', 'l', 'u', 's', '.', 'c', 'o', 'm']\n"
     ]
    }
   ],
   "source": [
    "text = 'machinelearningplus.com'\n",
    "print(re.findall('.', text))  # .   Any character except for a new line\n",
    "print(re.findall('...', text)) # Any 3 characters, besides new line"
   ]
  },
  {
   "cell_type": "code",
   "execution_count": 93,
   "metadata": {},
   "outputs": [
    {
     "name": "stdout",
     "output_type": "stream",
     "text": [
      "['m', 'a', 'c', 'h', 'i', 'n', 'e', 'l', 'e', 'a', 'r', 'n', 'i', 'n', 'g', 'p', 'l', 'u', 's', 'c', 'o', 'm']\n"
     ]
    }
   ],
   "source": [
    "text = 'machinelearningplus.com'\n",
    "print(re.findall('\\.', text))  # matches a period\n",
    "print(re.findall('[^\\.]', text))  # matches anything but a period"
   ]
  },
  {
   "cell_type": "code",
   "execution_count": 98,
   "metadata": {},
   "outputs": [
    {
     "name": "stdout",
     "output_type": "stream",
     "text": [
      "['01', '2015']\n"
     ]
    },
    {
     "data": {
      "text/plain": [
       "(None,)"
      ]
     },
     "execution_count": 98,
     "metadata": {},
     "output_type": "execute_result"
    }
   ],
   "source": [
    "text = '01, Jan 2015'\n",
    "print(re.findall('\\d+', text)), #any digit"
   ]
  },
  {
   "cell_type": "code",
   "execution_count": 99,
   "metadata": {},
   "outputs": [
    {
     "name": "stdout",
     "output_type": "stream",
     "text": [
      "[', Jan ']\n"
     ]
    }
   ],
   "source": [
    "text = '01, Jan 2015'\n",
    "print(re.findall('\\D+', text)) #anything but a digit"
   ]
  },
  {
   "cell_type": "code",
   "execution_count": 100,
   "metadata": {},
   "outputs": [
    {
     "name": "stdout",
     "output_type": "stream",
     "text": [
      "['01', 'Jan', '2015']\n"
     ]
    }
   ],
   "source": [
    "text = '01, Jan 2015'\n",
    "print(re.findall('\\w+', text))  # \\w  Any character\n",
    "#> ['01', 'Jan', '2015']"
   ]
  },
  {
   "cell_type": "code",
   "execution_count": 101,
   "metadata": {},
   "outputs": [
    {
     "name": "stdout",
     "output_type": "stream",
     "text": [
      "[', ', ' ']\n"
     ]
    }
   ],
   "source": [
    "text = '01, Jan 2015'\n",
    "print(re.findall('\\W+', text))  # \\W  Anything but a character\n",
    "#> [', ', ' ']"
   ]
  },
  {
   "cell_type": "code",
   "execution_count": 102,
   "metadata": {},
   "outputs": [
    {
     "name": "stdout",
     "output_type": "stream",
     "text": [
      "['Jan']\n"
     ]
    }
   ],
   "source": [
    "text = '01, Jan 2015'\n",
    "print(re.findall('[a-zA-Z]+', text))  # [] Matches any character inside\n",
    "#> ['Jan']"
   ]
  },
  {
   "cell_type": "code",
   "execution_count": 103,
   "metadata": {},
   "outputs": [
    {
     "name": "stdout",
     "output_type": "stream",
     "text": [
      "['2015']\n",
      "['01', '2015']\n"
     ]
    }
   ],
   "source": [
    "text = '01, Jan 2015'\n",
    "print(re.findall('\\d{4}', text))  # {n} Matches repeat n times.\n",
    "print(re.findall('\\d{2,4}', text))\n",
    "#> ['2015']\n",
    "#> ['01', '2015']"
   ]
  },
  {
   "cell_type": "code",
   "execution_count": 118,
   "metadata": {},
   "outputs": [
    {
     "name": "stdout",
     "output_type": "stream",
     "text": [
      "[]\n",
      "['Cooool']\n"
     ]
    }
   ],
   "source": [
    "print(re.findall(r'Co+1', 'So Cooool'))  # Match for 1 or more occurrences\n",
    "#> ['Cooool']\n",
    "print(re.findall(r'Co+l', 'So Cooool'))"
   ]
  },
  {
   "cell_type": "code",
   "execution_count": 119,
   "metadata": {},
   "outputs": [
    {
     "name": "stdout",
     "output_type": "stream",
     "text": [
      "['Pilani']\n"
     ]
    }
   ],
   "source": [
    "print(re.findall(r'Pi*lani', 'Pilani'))\n",
    "#> ['Pilani']"
   ]
  },
  {
   "cell_type": "code",
   "execution_count": 108,
   "metadata": {},
   "outputs": [
    {
     "name": "stdout",
     "output_type": "stream",
     "text": [
      "['color']\n"
     ]
    },
    {
     "data": {
      "text/plain": [
       "['color']"
      ]
     },
     "execution_count": 108,
     "metadata": {},
     "output_type": "execute_result"
    }
   ],
   "source": [
    "print(re.findall(r'colou?r', 'color'))\n",
    "['color']"
   ]
  },
  {
   "cell_type": "code",
   "execution_count": 120,
   "metadata": {},
   "outputs": [],
   "source": [
    "#1. Extract the user id, domain name and suffix from the following email addresses.\n",
    "emails = \"\"\"zuck26@facebook.com\n",
    "page33@google.com\n",
    "jeff42@amazon.com\"\"\"\n",
    "\n",
    "#desired_output = [('zuck26', 'facebook', 'com'),\n",
    " #('page33', 'google', 'com'),\n",
    "# ('jeff42', 'amazon', 'com')]"
   ]
  },
  {
   "cell_type": "code",
   "execution_count": 128,
   "metadata": {},
   "outputs": [
    {
     "name": "stdout",
     "output_type": "stream",
     "text": [
      "[('zuck26', 'facebook', 'com'), ('page33', 'google', 'com'), ('jeff42', 'amazon', 'com')]\n"
     ]
    }
   ],
   "source": [
    "pattern = r'(\\w+)@([A-Za-z0-9]+)\\.([A-Za-z]{2,4})'\n",
    "print(re.findall(pattern, emails))"
   ]
  },
  {
   "cell_type": "code",
   "execution_count": 131,
   "metadata": {},
   "outputs": [],
   "source": [
    "import re\n",
    "sentence = \"\"\"A, very   very; irregular_sentence\"\"\"\n",
    "desired_output = \"A very very irregular sentence\""
   ]
  },
  {
   "cell_type": "code",
   "execution_count": 136,
   "metadata": {},
   "outputs": [
    {
     "data": {
      "text/plain": [
       "'A very very irregular sentence'"
      ]
     },
     "execution_count": 136,
     "metadata": {},
     "output_type": "execute_result"
    }
   ],
   "source": [
    "\" \".join(re.split('[\\s;,_]+', sentence))"
   ]
  },
  {
   "cell_type": "code",
   "execution_count": 137,
   "metadata": {},
   "outputs": [],
   "source": [
    "tweet = '''Good advice! RT @TheNextWeb: What I would do differently if I was learning to code today http://t.co/lbwej0pxOd cc: @garybernhardt #rstats'''"
   ]
  },
  {
   "cell_type": "code",
   "execution_count": 138,
   "metadata": {},
   "outputs": [],
   "source": [
    "degree = ['Sc.D.', 'Ph.D.', 'PhD', 'Ph.D.', 'Ph.D.', 'Ph.D.',\n",
    "          'Ph.D', 'PhD', 'Ph.D', 'Ph.D', 'Ph.D.', 'PhD', 'Ph.D.',\n",
    "          'MD', 'MPH', 'Ph.D', 'B.S.Ed.', 'M.S.', 'Ph.D.', 'Ph.D.',\n",
    "          'Ph.D.', 'Ph.D', 'JD', 'MA', 'MPH', 'MS', 'PhD', 'Ph.D.',\n",
    "          'Sc.D.', 'Sc.D.', 'PhD', 'ScD', 'Ph.D.', 'PhD', 'Ph.D.',\n",
    "          'Sc.D.', 'PhD', '0', 'Ph.D.', 'Ph.D.', 'Ph.D.', 'ScD',\n",
    "          'PhD', 'Ph.D.', 'PhD', 'Ph.D']"
   ]
  },
  {
   "cell_type": "code",
   "execution_count": 139,
   "metadata": {},
   "outputs": [
    {
     "name": "stdout",
     "output_type": "stream",
     "text": [
      "['Sc.D.', 'Ph.D.', 'PhD', 'Ph.D.', 'Ph.D.', 'Ph.D.', 'Ph.D', 'PhD', 'Ph.D', 'Ph.D', 'Ph.D.', 'PhD', 'Ph.D.', 'MD', 'MPH', 'Ph.D', 'B.S.Ed.', 'M.S.', 'Ph.D.', 'Ph.D.', 'Ph.D.', 'Ph.D', 'JD', 'MA', 'MPH', 'MS', 'PhD', 'Ph.D.', 'Sc.D.', 'Sc.D.', 'PhD', 'ScD', 'Ph.D.', 'PhD', 'Ph.D.', 'Sc.D.', 'PhD', '0', 'Ph.D.', 'Ph.D.', 'Ph.D.', 'ScD', 'PhD', 'Ph.D.', 'PhD', 'Ph.D']\n"
     ]
    }
   ],
   "source": [
    "## paterns are no periods, 1 period after 2nd letter, "
   ]
  },
  {
   "cell_type": "code",
   "execution_count": 193,
   "metadata": {},
   "outputs": [],
   "source": [
    "degree_list = ['Sc.D.', 'Ph.D.', 'PhD', 'Ph.D.', 'Ph.D.', 'Ph.D.',\n",
    "               'Ph.D', 'PhD', 'Ph.D', 'Ph.D', 'Ph.D.', 'PhD', 'Ph.D.',\n",
    "               'MD MPH Ph.D', 'B.S.Ed. M.S. Ph.D.', 'Ph.D.', 'Ph.D.',\n",
    "               'Ph.D', 'JD MA MPH MS PhD', 'Ph.D.', 'Sc.D.', 'Sc.D.',\n",
    "               'PhD ScD', 'Ph.D.', 'PhD', 'Ph.D.', 'Sc.D.', 'PhD',\n",
    "               '0', 'Ph.D.', 'Ph.D.', 'Ph.D.', 'ScD', 'PhD', 'Ph.D.',\n",
    "               'PhD', 'Ph.D']"
   ]
  },
  {
   "cell_type": "code",
   "execution_count": 207,
   "metadata": {},
   "outputs": [
    {
     "data": {
      "text/plain": [
       "defaultdict(int,\n",
       "            {'ScD': 6,\n",
       "             'PhD': 31,\n",
       "             'MD': 1,\n",
       "             'MPH': 2,\n",
       "             'BSEd': 1,\n",
       "             'MS': 2,\n",
       "             'JD': 1,\n",
       "             'MA': 1,\n",
       "             '0': 1})"
      ]
     },
     "execution_count": 207,
     "metadata": {},
     "output_type": "execute_result"
    }
   ],
   "source": [
    "import re\n",
    "import pprint\n",
    "from collections import defaultdict\n",
    "def count_degree(degree_list):\n",
    "    output_list = []\n",
    "    cleaned_list = []\n",
    "    degree_counter = defaultdict(int)\n",
    "    for entry in degree_list:\n",
    "        if len(entry)>5:\n",
    "            output_list.extend(re.split('\\s+', entry))\n",
    "        else:\n",
    "            output_list.append(entry)\n",
    "    for degree in output_list:\n",
    "        cleaned_list.append(re.sub('\\.+','',degree))\n",
    "    \n",
    "    for deg in cleaned_list:\n",
    "        degree_counter[deg] += 1\n",
    "    return degree_counter\n",
    "        \n",
    "\n",
    "list_clean(degree_list)\n",
    "\n"
   ]
  },
  {
   "cell_type": "code",
   "execution_count": 203,
   "metadata": {},
   "outputs": [
    {
     "ename": "IndentationError",
     "evalue": "unindent does not match any outer indentation level (<tokenize>, line 3)",
     "output_type": "error",
     "traceback": [
      "\u001b[0;36m  File \u001b[0;32m\"<tokenize>\"\u001b[0;36m, line \u001b[0;32m3\u001b[0m\n\u001b[0;31m    return(cleaned_list)\u001b[0m\n\u001b[0m    ^\u001b[0m\n\u001b[0;31mIndentationError\u001b[0m\u001b[0;31m:\u001b[0m unindent does not match any outer indentation level\n"
     ]
    }
   ],
   "source": [
    "for degree in cleaned_list:\n",
    "        cleaned_list = re.sub('\\.+','',degree)\n",
    "    return(cleaned_list)"
   ]
  },
  {
   "cell_type": "code",
   "execution_count": 204,
   "metadata": {},
   "outputs": [
    {
     "name": "stdout",
     "output_type": "stream",
     "text": [
      "ScD\n",
      "PhD\n",
      "PhD\n"
     ]
    }
   ],
   "source": [
    "sample = ['Sc.D.', 'Ph.D.', 'PhD']\n",
    "for x in sample:\n",
    "    print(re.sub('\\.+','',x))"
   ]
  },
  {
   "cell_type": "code",
   "execution_count": 205,
   "metadata": {},
   "outputs": [
    {
     "name": "stdout",
     "output_type": "stream",
     "text": [
      "defaultdict(<class 'int'>, {'Sc.D.': 4, 'Ph.D.': 16, 'PhD': 9, 'Ph.D': 6, 'MD': 1, 'MPH': 2, 'B.S.Ed.': 1, 'M.S.': 1, 'JD': 1, 'MA': 1, 'MS': 1, 'ScD': 2, '0': 1})\n"
     ]
    }
   ],
   "source": [
    "\n",
    "degree_count = defaultdict(int)\n",
    "for deg in cleaned_list:\n",
    "    degree_count[deg] += 1\n",
    "print(degree_count)\n"
   ]
  },
  {
   "cell_type": "code",
   "execution_count": 153,
   "metadata": {},
   "outputs": [],
   "source": [
    "import pprint"
   ]
  },
  {
   "cell_type": "code",
   "execution_count": 154,
   "metadata": {},
   "outputs": [
    {
     "name": "stdout",
     "output_type": "stream",
     "text": [
      "['Sc.D.',\n",
      " 'Ph.D.',\n",
      " 'PhD',\n",
      " 'Ph.D.',\n",
      " 'Ph.D.',\n",
      " 'Ph.D.',\n",
      " 'Ph.D',\n",
      " 'PhD',\n",
      " 'Ph.D',\n",
      " 'Ph.D',\n",
      " 'Ph.D.',\n",
      " 'PhD',\n",
      " 'Ph.D.',\n",
      " 'MD MPH Ph.D',\n",
      " 'B.S.Ed. M.S. Ph.D.',\n",
      " 'Ph.D.',\n",
      " 'Ph.D.',\n",
      " 'Ph.D',\n",
      " 'JD MA MPH MS PhD',\n",
      " 'Ph.D.',\n",
      " 'Sc.D.',\n",
      " 'Sc.D.',\n",
      " 'PhD ScD',\n",
      " 'Ph.D.',\n",
      " 'PhD',\n",
      " 'Ph.D.',\n",
      " 'Sc.D.',\n",
      " 'PhD',\n",
      " '0',\n",
      " 'Ph.D.',\n",
      " 'Ph.D.',\n",
      " 'Ph.D.',\n",
      " 'ScD',\n",
      " 'PhD',\n",
      " 'Ph.D.',\n",
      " 'PhD',\n",
      " 'Ph.D']\n"
     ]
    }
   ],
   "source": [
    "pprint.pprint(degree_list)"
   ]
  },
  {
   "cell_type": "code",
   "execution_count": null,
   "metadata": {},
   "outputs": [],
   "source": []
  }
 ],
 "metadata": {
  "kernelspec": {
   "display_name": "Python 3",
   "language": "python",
   "name": "python3"
  },
  "language_info": {
   "codemirror_mode": {
    "name": "ipython",
    "version": 3
   },
   "file_extension": ".py",
   "mimetype": "text/x-python",
   "name": "python",
   "nbconvert_exporter": "python",
   "pygments_lexer": "ipython3",
   "version": "3.7.3"
  }
 },
 "nbformat": 4,
 "nbformat_minor": 2
}
