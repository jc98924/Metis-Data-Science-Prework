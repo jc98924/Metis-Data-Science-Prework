{
 "cells": [
  {
   "cell_type": "markdown",
   "metadata": {},
   "source": [
    "#### Question 14\n",
    "Write a python lambda function which takes a list called my_list and returns a list which includes only even numbers, in the same order.\n",
    "\n",
    "if '<lambda>' not in f.__name__:\n",
    "    raise ValueError('Please write a lambda function')\n",
    "\n",
    "my_list = json.loads(sys.stdin.readline())\n",
    "for x in f(my_list):\n",
    "    print(x)"
   ]
  },
  {
   "cell_type": "code",
   "execution_count": 267,
   "metadata": {},
   "outputs": [
    {
     "name": "stdout",
     "output_type": "stream",
     "text": [
      "[4, 2, 170, 84]\n",
      "4\n",
      "2\n",
      "170\n",
      "84\n"
     ]
    }
   ],
   "source": [
    "my_list = [3, 4, 7, 2, 9, 170, 84]\n",
    "f = list(filter(lambda x: x % 2 == 0, my_list))\n",
    "print(f)\n",
    "for x in f:\n",
    "    print(x)"
   ]
  },
  {
   "cell_type": "code",
   "execution_count": null,
   "metadata": {},
   "outputs": [],
   "source": [
    "my_list = [3, 4, 7, 2, 9, 170]\n"
   ]
  },
  {
   "cell_type": "code",
   "execution_count": null,
   "metadata": {},
   "outputs": [],
   "source": [
    "my_list = json.loads(sys.stdin.readline())\n",
    "f = list(filter(lambda x: x % 2 == 0, my_list))\n",
    "for x in f:\n",
    "    print(x)"
   ]
  },
  {
   "cell_type": "code",
   "execution_count": null,
   "metadata": {},
   "outputs": [],
   "source": []
  },
  {
   "cell_type": "code",
   "execution_count": 8,
   "metadata": {},
   "outputs": [
    {
     "ename": "SyntaxError",
     "evalue": "invalid syntax (<ipython-input-8-0333086d6e8b>, line 1)",
     "output_type": "error",
     "traceback": [
      "\u001b[0;36m  File \u001b[0;32m\"<ipython-input-8-0333086d6e8b>\"\u001b[0;36m, line \u001b[0;32m1\u001b[0m\n\u001b[0;31m    f = lambda my_list, x: x for x in my_list if x % 2 == 0\u001b[0m\n\u001b[0m                               ^\u001b[0m\n\u001b[0;31mSyntaxError\u001b[0m\u001b[0;31m:\u001b[0m invalid syntax\n"
     ]
    }
   ],
   "source": [
    "f = [lambda my_list, x: x for x in my_list if x % 2 == 0]\n"
   ]
  },
  {
   "cell_type": "code",
   "execution_count": 13,
   "metadata": {},
   "outputs": [
    {
     "name": "stdout",
     "output_type": "stream",
     "text": [
      "[4, 2, 170]\n"
     ]
    }
   ],
   "source": [
    "f = print(list(filter(lambda x: x % 2 == 0, my_list)))"
   ]
  },
  {
   "cell_type": "code",
   "execution_count": null,
   "metadata": {},
   "outputs": [],
   "source": [
    "f = lambda my_list: "
   ]
  },
  {
   "cell_type": "markdown",
   "metadata": {},
   "source": [
    "#### Question 15: MAP\n",
    "Given:  \n",
    "items_list = \\[1,2,3,4,5\\]\n",
    "\n",
    "def sqr(x):  \n",
    "  return x ** 2  \n",
    "  \n",
    "Use \"map\" to return a list called \" items_squared\" which is the square of each item in items_list  \n",
    "\n",
    "**You're asnwer should be one line. Use map.**  \n",
    "\n",
    "```\n",
    "with open(__file__, 'r') as f:  \n",
    "    lines = f.readlines()[10:]  \n",
    "solution_line = [line for line in lines   \n",
    "                 if line.startswith('items_squared')]  \n",
    "solution_line = solution_line[0]  \n",
    "\n",
    "\\# assert not items_squared.count('\\n'), 'string should be one line'  \n",
    "assert 'map' in solution_line, 'use \"map\"'  \n",
    "assert 'sqr' in solution_line, 'use the predefined function \"sqr\"'  \n",
    "assert 'items_list' in solution_line, 'use the predefined variable \"items_list\"'  \n",
    "\n",
    "for item in items_squared:\n",
    "    print(item)  \n",
    "```   \n"
   ]
  },
  {
   "cell_type": "code",
   "execution_count": 188,
   "metadata": {},
   "outputs": [
    {
     "name": "stdout",
     "output_type": "stream",
     "text": [
      "[1, 4, 9, 16, 25]\n"
     ]
    }
   ],
   "source": [
    "item_squared = list(map(sqr, items_list ))\n",
    "print(item_squared)"
   ]
  },
  {
   "cell_type": "markdown",
   "metadata": {},
   "source": [
    "#### Question 16: Filter\n",
    "\n",
    "Given xlist = \\[0, 5, 10, 15, 20, 25, 30, 35, 40, 45, 50, 75, 100\\]  \n",
    "Use \"filter\" to return a list called \"tens_list\" which includes all items in xlist that are divisible by 10. \n",
    "\n",
    "xlist = [0, 5, 10, 15, 20, 25, 30, 35, 40, 45, 50, 75,100]\n",
    "\n",
    "\\# Write your answer in one line, using \"filter\"\n",
    "\n",
    "tens_list = \n",
    "\n",
    " \n",
    "\n",
    "```\n",
    "with open(__file__, 'r') as f:\n",
    "    lines = f.readlines()[6:]\n",
    "solution_line = [line for line in lines \n",
    "                 if line.startswith('tens_list')]\n",
    "solution_line = solution_line[0]\n",
    "\n",
    "\\# assert not tens_list.count('\\n'), 'your string needs to be one line'\n",
    "assert 'filter' in solution_line, 'are you using \"filter\"?'\n",
    "assert 'xlist' in solution_line, 'use the predefined variable \"xlist\"'\n",
    "for i in tens_list:\n",
    "    print(i)\n",
    "```"
   ]
  },
  {
   "cell_type": "code",
   "execution_count": 189,
   "metadata": {},
   "outputs": [
    {
     "name": "stdout",
     "output_type": "stream",
     "text": [
      "[0, 10, 20, 30, 40, 50, 100]\n"
     ]
    }
   ],
   "source": [
    "xlist = [0, 5, 10, 15, 20, 25, 30, 35, 40, 45, 50, 75, 100]\n",
    "tens_list = list(filter(lambda num: num % 10 == 0, xlist))\n",
    "print(tens_list)"
   ]
  },
  {
   "cell_type": "markdown",
   "metadata": {},
   "source": [
    "#### Question 17: Datetime\n",
    "\n",
    "Write a function that computes the diffrence, in days, between two given dates.  \n",
    "Dates given will be **strings**. You can assume dates are given in **\\'%m-%d-%y'** format, and the first date is less than or equal to the second date.  \n",
    "\n",
    "Example:  \n",
    "date_start = '01-02-2013'  \n",
    "date_stop = '01-03-2013'  \n",
    "\n",
    "print(difference_in_days(date_start, date_stop))  \n",
    "\n",
    "\\>>> 1"
   ]
  },
  {
   "cell_type": "code",
   "execution_count": 192,
   "metadata": {},
   "outputs": [],
   "source": [
    "from datetime import datetime\n",
    "from datetime import timedelta\n",
    "date_start = '01-02-2013'\n",
    "date_end = '01-04-2013'"
   ]
  },
  {
   "cell_type": "code",
   "execution_count": 210,
   "metadata": {},
   "outputs": [
    {
     "name": "stdout",
     "output_type": "stream",
     "text": [
      "2\n"
     ]
    }
   ],
   "source": [
    "def difference_in_days(date1, date2):\n",
    "    date_format = '%m-%d-%Y'\n",
    "    difference = datetime.strptime(date2, date_format) - datetime.strptime(date1, date_format)\n",
    "    print(difference.days)\n",
    "difference_in_days(date_start, date_end)"
   ]
  },
  {
   "cell_type": "markdown",
   "metadata": {},
   "source": [
    "#### Question 18: List Comprehension\n",
    "\n",
    "Write a one-line list compreshension which produces a list of Fahrenheit values given a variable called 'celcius'."
   ]
  },
  {
   "cell_type": "code",
   "execution_count": 2,
   "metadata": {},
   "outputs": [
    {
     "data": {
      "text/plain": [
       "\"\\nwith open(__file__, 'r') as f:\\n    lines = f.readlines()[6:]\\nsolution_line = [line for line in lines \\n                 if line.startswith('fahrenheit')]\\nsolution_line = solution_line[0]\\n\\nassert 'celsius' in solution_line, 'are you using a list comprehension?'\\nfor i in fahrenheit:\\n    print(i)\\n\""
      ]
     },
     "execution_count": 2,
     "metadata": {},
     "output_type": "execute_result"
    }
   ],
   "source": [
    "celsius = [39.2, 36.5, 37.3, 0, 20]\n",
    "# write your answer in one line. use a list comprehension. use the variable \"celsius\"\n",
    "fahrenheit = [cel * (9/5) + 32 for cel in celsius]\n",
    "\n",
    "'''\n",
    "with open(__file__, 'r') as f:\n",
    "    lines = f.readlines()[6:]\n",
    "solution_line = [line for line in lines \n",
    "                 if line.startswith('fahrenheit')]\n",
    "solution_line = solution_line[0]\n",
    "\n",
    "assert 'celsius' in solution_line, 'are you using a list comprehension?'\n",
    "for i in fahrenheit:\n",
    "    print(i)\n",
    "'''"
   ]
  },
  {
   "cell_type": "markdown",
   "metadata": {},
   "source": [
    "#### Question 19: Donut Count\n",
    "Given an int count of a number of donuts, write a function \"donuts\" that returns a string of the form 'Number of donuts: (count)', where (count) is the number passed in. However, if the count is 10 or more, then use the word 'many' instead of the actual count. "
   ]
  },
  {
   "cell_type": "code",
   "execution_count": 30,
   "metadata": {},
   "outputs": [],
   "source": [
    "def donuts (count):\n",
    "    if count < 10:\n",
    "        print('Number of donuts: {}'.format(count))\n",
    "    else:\n",
    "        print('Number of donuts: many')        "
   ]
  },
  {
   "cell_type": "markdown",
   "metadata": {},
   "source": [
    "#### Question 20: Strings: Both Ends of a String\n",
    "\n",
    "Write a function \"both_ends\" that, given a string s, returns a string made of the first 2 and the last 2 chars of the original string, so 'spring' yields 'spng'. However, if the string length is less than 2, return instead the empty string.  \n",
    "\n",
    "\\>>> both_ends('spring')  \n",
    "'spng'  \n",
    "\\>>> both_ends('Hello')  \n",
    "'Helo'  \n",
    "\\>>> both_ends('a')  \n",
    "\"  \n",
    "\\>>> both_ends('xyz')  \n",
    "'xyyz'"
   ]
  },
  {
   "cell_type": "code",
   "execution_count": 39,
   "metadata": {},
   "outputs": [],
   "source": [
    "def both_ends(s):\n",
    "    if len(s) < 2:\n",
    "        return(s[0:2] + s[-2:])"
   ]
  },
  {
   "cell_type": "markdown",
   "metadata": {},
   "source": [
    "#### Question 21: Mask String \n",
    "\n",
    "Write a function 'fix_start' that, given a string s, returns a string where all occurences of its first char have been changed to '*', except do not change the first char itself. e.g. 'babble' yields 'ba\\***le'. Assume that the string is length 1 or more.  \n",
    "\n",
    "\\>>> fix_start('babble')  \n",
    "'ba\\**le'  \n",
    "\\>>> fix_start('aardvark')  \n",
    "'a*rdv*rk'  \n",
    "\\>>> fix_start('google')  \n",
    "'goo*le'  \n",
    "\\>>> fix_start('donut')  \n",
    "'donut'"
   ]
  },
  {
   "cell_type": "code",
   "execution_count": 78,
   "metadata": {},
   "outputs": [
    {
     "data": {
      "text/plain": [
       "'a*rdv*rk'"
      ]
     },
     "execution_count": 78,
     "metadata": {},
     "output_type": "execute_result"
    }
   ],
   "source": [
    "def fix_start(s):\n",
    "    first_letter = s[0]\n",
    "    fix = s[0]\n",
    "    for i, letter in enumerate(s[1:]):\n",
    "        if letter == first_letter:\n",
    "            fix += '*'\n",
    "        else:\n",
    "            fix += s[i+1]\n",
    "    return fix\n",
    "fix_start('aardvark')"
   ]
  },
  {
   "cell_type": "markdown",
   "metadata": {},
   "source": [
    "#### Question 22\n",
    "Write a function 'mix_up' that, given strings a and b, returns a single string with a and b separated by a space '\\<a>\\<b>', except swaps the first 2 chars of each string. Assume a and b are length 2 or more. \n",
    "    \n",
    "mix_up('mix','pod')  \n",
    "\\>>> 'pox mid'  \n",
    "mix_up('dog','dinner')  \n",
    "\\>>> 'dig donner'  "
   ]
  },
  {
   "cell_type": "code",
   "execution_count": 86,
   "metadata": {},
   "outputs": [
    {
     "name": "stdout",
     "output_type": "stream",
     "text": [
      "pox mid\n",
      "dig donner\n",
      "spash gnort\n",
      "fizzy perm\n"
     ]
    }
   ],
   "source": [
    "def mix_up(a,b):\n",
    "    return(b[0:2]+ a[2:]+ ' ' + a[0:2]+ b[2:])\n",
    "print(mix_up('mix','pod'))\n",
    "print(mix_up('dog','dinner'))\n",
    "print(mix_up('gnash','sport'))\n",
    "print(mix_up('pezzy','firm'))"
   ]
  },
  {
   "cell_type": "markdown",
   "metadata": {},
   "source": [
    "#### Question 23\n",
    "Write a function 'verbing' that does the following:  \n",
    "Given a string, if it's length is at least 3, add 'ing' to its end. Unless it already ends in 'ing', in which case add 'ly' instead. If the string length is less than 3, leave it unchanged. Retrun the resulting string. Assume lower case input. \n",
    "\n",
    "verbing('hail')\n",
    "'hailing'\n",
    "\n",
    "verbing('swiming')\n",
    "'swimingly'\n",
    "\n",
    "verbing('do')\n",
    "'do'"
   ]
  },
  {
   "cell_type": "code",
   "execution_count": 89,
   "metadata": {},
   "outputs": [
    {
     "name": "stdout",
     "output_type": "stream",
     "text": [
      "hailing\n",
      "swimingly\n",
      "do\n"
     ]
    }
   ],
   "source": [
    "def verbing(s):\n",
    "    if len(s) < 3:\n",
    "        return s\n",
    "    else:\n",
    "        if s[-3:] == 'ing':\n",
    "            return s + 'ly'\n",
    "        else:\n",
    "            return s + 'ing'\n",
    "print(verbing('hail'))\n",
    "print(verbing('swiming'))\n",
    "print(verbing('do'))"
   ]
  },
  {
   "cell_type": "markdown",
   "metadata": {},
   "source": [
    "#### Question 24\n",
    "Write a function 'not_bad' that does the following:  \n",
    "Given a string, find the first appearance of the substring 'not' and 'bad'. If the 'bad' follows the 'not', replace the whole 'not'..'bad' substring with 'good'. Return the resulting string. So 'This dinner is not that bad!' yields: 'This dinner is good!'\n",
    "\n",
    "\\> not_bad('This movie is not so bad')  \n",
    "'This move is good'  \n",
    "\\> not_bad('This dinner is not that bad!')  \n",
    "'This dinner is good!'  \n",
    "\\> not_bad('This tea is not hot')  \n",
    "'This tea is not hot'  \n",
    "\\> not_bad('It's bad yet not')  \n",
    "'It's bad yet not'  "
   ]
  },
  {
   "cell_type": "code",
   "execution_count": 7,
   "metadata": {},
   "outputs": [
    {
     "name": "stdout",
     "output_type": "stream",
     "text": [
      "This movie is good\n",
      "This dinner is good!\n",
      "This tea is not hot\n",
      "It's bad yet not\n"
     ]
    }
   ],
   "source": [
    "def not_bad(s):\n",
    "    if ('not' in s and 'bad' in s) and (s.find('not')< s.find('bad')):\n",
    "        return(s.replace(s[s.find('not'):s.find('bad')+3], 'good', 1))\n",
    "    else:\n",
    "        return(s)\n",
    "print(not_bad('This movie is not so bad'))\n",
    "print(not_bad('This dinner is not that bad!'))\n",
    "print(not_bad('This tea is not hot'))\n",
    "print(not_bad('It\\'s bad yet not'))"
   ]
  },
  {
   "cell_type": "markdown",
   "metadata": {},
   "source": [
    "#### Question 25\n",
    "Write a function 'front_back' that does the following:  \n",
    "Consider dividing a string into two halves. If the length is even, the front and back halves are the same length. If the length is odd, we'll say that the extra char goes in the front half. e.g 'abcde', the front half is 'abc', the back half is 'de'. Given 2 strings, a and b, return a string of the form a-front + b-front + a-back + b-back.\n",
    "\n",
    "\\> front_back('abcd','xy')  \n",
    "'abxcdy'  \n",
    "\\> front_back('abcde','xyz')  \n",
    "'abcxydez'  \n",
    "\\> front_back('Kitten', 'Donut')  \n",
    "'KitDontenut'  "
   ]
  },
  {
   "cell_type": "code",
   "execution_count": 6,
   "metadata": {},
   "outputs": [
    {
     "data": {
      "text/plain": [
       "'aDonut'"
      ]
     },
     "execution_count": 6,
     "metadata": {},
     "output_type": "execute_result"
    }
   ],
   "source": [
    "def front_back(s1,s2):\n",
    "    if len(s1) == 1:\n",
    "        s1_front, s1_back = s1, ''\n",
    "    elif len(s1) % 2 == 0:\n",
    "        s1_index = (len(s1)//2)\n",
    "        s1_front = s1[0:s1_index]\n",
    "        s1_back = s1[-s1_index:]\n",
    "    else:\n",
    "        s1_index = (len(s1)//2)\n",
    "        s1_front = s1[0:s1_index+1]\n",
    "        s1_back = s1[-s1_index:]\n",
    "    if len(s2) == 1:\n",
    "        s2_front, s2_back = s2, ''\n",
    "    elif len(s2) % 2 == 0:\n",
    "        s2_index = (len(s2)//2)\n",
    "        s2_front = s2[0:s2_index]\n",
    "        s2_back = s2[-s2_index:]\n",
    "    else:\n",
    "        s2_index = (len(s2)//2)\n",
    "        s2_front = s2[0:s2_index+1]\n",
    "        s2_back = s2[-s2_index:]\n",
    "    return s1_front + s2_front + s1_back + s2_back\n",
    "front_back('a','Donut')"
   ]
  },
  {
   "cell_type": "markdown",
   "metadata": {},
   "source": [
    "#### Question 26\n",
    "Write a function \"match_ends\" that does the following:\n",
    "\n",
    "Given a list of strings, return the count of the number of strings where the string length is 2 or more and the first and last chars of the string are the same.  \n",
    "\n",
    "\\> match_ends(['aba','xyz','aa','x','bbb'])  \n",
    "3  \n",
    "\\> match_ends(['','x','xy','xyx','xx'])  \n",
    "2  \n",
    "\\> match_ends(['aaa','be','abc','hello'])  \n",
    "3  "
   ]
  },
  {
   "cell_type": "code",
   "execution_count": 5,
   "metadata": {},
   "outputs": [],
   "source": [
    "def match_ends(s):\n",
    "    counter = 0\n",
    "    for element in s:\n",
    "        if len(element) >= 2 and element[0] == element[-1]:\n",
    "            counter += 1\n",
    "    return counter"
   ]
  },
  {
   "cell_type": "markdown",
   "metadata": {},
   "source": [
    "#### Question 27\n",
    "\n",
    "Write a function \"front_x\" which does the following:\n",
    "\n",
    "Given a list of strings, return a list with the strings in sorted ordered, except group all the strings that begin with 'x' first. Assume lower case input.  \n",
    "\n",
    "front_x(\\['mix','xyz','apple','xanadu','aardvark'\\])  \n",
    "\\['xanadu','xyz','aardvark','apple','mix'\\]"
   ]
  },
  {
   "cell_type": "code",
   "execution_count": 45,
   "metadata": {},
   "outputs": [
    {
     "data": {
      "text/plain": [
       "['xanadu', 'xyz', 'aardvark', 'apple', 'mix']"
      ]
     },
     "execution_count": 45,
     "metadata": {},
     "output_type": "execute_result"
    }
   ],
   "source": [
    "def front_x(words):\n",
    "    x_list = [w for w in words if w[0] == 'x']\n",
    "    o_list = [w for w in words if w[0] != 'x']\n",
    "    return sorted(x_list)+sorted(o_list)\n"
   ]
  },
  {
   "cell_type": "code",
   "execution_count": 41,
   "metadata": {},
   "outputs": [
    {
     "name": "stdout",
     "output_type": "stream",
     "text": [
      "['xyz', 'xanadu']\n"
     ]
    }
   ],
   "source": [
    "# function without list comprehension\n",
    "words =  ['mix','xyz','apple','xanadu','aardvark']\n",
    "x_list = []\n",
    "for w in words:\n",
    "    if w[0] == 'x':\n",
    "        x_list.append(w)\n",
    "print (x_list)"
   ]
  },
  {
   "cell_type": "code",
   "execution_count": 43,
   "metadata": {},
   "outputs": [
    {
     "name": "stdout",
     "output_type": "stream",
     "text": [
      "['xyz', 'xanadu']\n",
      "['mix', 'apple', 'aardvark']\n"
     ]
    }
   ],
   "source": [
    "# list compreshension working example\n",
    "words =  ['mix','xyz','apple','xanadu','aardvark']\n",
    "x_list = [w for w in words if w[0] == 'x']\n",
    "o_list = [w for w in words if w[0] != 'x']\n",
    "print(x_list)\n",
    "print(o_list)"
   ]
  },
  {
   "cell_type": "markdown",
   "metadata": {},
   "source": [
    "#### Question 28: Sort by last element\n",
    "\n",
    "Write a function \"sort_last\" that does the following:\n",
    "\n",
    "Given a list of non-empty tuples, return a list sorted in increasing order by the last element in each tuple.  \n",
    "\n",
    "e.g. \\[(1,7),(1,3),(3,4,5),(2,2)\\] yields:  \n",
    "\\[(2,2,),(1,3),(3,4,5),(1,7)\\]  \n",
    "\n",
    "\\>>> sort_last(\\[(1,3),(3,2),(2,1)\\])  \n",
    "\\[(2,1),(3,2),(1,3)\\])\n",
    "\n"
   ]
  },
  {
   "cell_type": "code",
   "execution_count": 50,
   "metadata": {},
   "outputs": [],
   "source": [
    "def sort_last(tuples):\n",
    "    return sorted(tuples, key = lambda x: x[-1])"
   ]
  },
  {
   "cell_type": "markdown",
   "metadata": {},
   "source": [
    "#### Question 29: Lists: Remove Adjacent\n",
    "Write a function \"remove_adjacent\" that does the following:  \n",
    "\n",
    "Given a list of numbers, return a list where all adjacent equal elements have been reduced to a single element, so \\[1,2,2,3\\] returns \\[1,2,3\\]. You may create a new list or modify the passed in list.  \n",
    "\n",
    "\\>>> remove_adjacent(\\[1,2,2,3\\])  \n",
    "\\[1,2,3\\]  \n",
    "\\>>> remove_adjacent(\\[2,2,3,3,3\\])    \n",
    "\\[2,3\\]  \n",
    "\\>>> remove_adjacent(\\[3,2,3,3,3\\])  \n",
    "\\[3,2,3 \\]  \n",
    "\\>>> remove_adjacent(\\[ \\])  \n",
    "\\[ \\]"
   ]
  },
  {
   "cell_type": "code",
   "execution_count": 3,
   "metadata": {},
   "outputs": [
    {
     "data": {
      "text/plain": [
       "[2, 3, 4]"
      ]
     },
     "execution_count": 3,
     "metadata": {},
     "output_type": "execute_result"
    }
   ],
   "source": [
    "nums = [2,2,2,2,3,3,4,4]\n",
    "def remove_adjacent(nums):\n",
    "    new_list = [n for i,n in enumerate(nums) if i == 0 or nums[i-1] != n]\n",
    "    return new_list\n",
    "remove_adjacent(nums)"
   ]
  },
  {
   "cell_type": "markdown",
   "metadata": {},
   "source": [
    "#### Question 30: Merge Lists\n",
    "\n",
    "Write a function \"linear_merge\" that does the following:\n",
    "\n",
    "Given two lists **sorted** in increasing order, create and return a merged list of all the elements in sorted order. You may modify the passed in lists. Ideally, the solution should work in \"linear\" time, making a single pass of both lists.  \n",
    "\n",
    "\\>>> linear_merge(\\['aa','xx','zz'\\],\\['bb','cc'\\])  \n",
    "\\['aa','bb','cc','xx','zz'\\]  \n",
    "\\>>> linear_merge(\\['aa','xx'\\],\\['bb','cc','zz'\\])  \n",
    "\\['aa','bb','cc','xx','zz'\\]  \n",
    "\\>>> linear_merge(\\['aa','aa'\\],\\['aa','bb','bb'\\])  \n",
    "\\['aa','aa','aa','bb','bb'\\]  "
   ]
  },
  {
   "cell_type": "code",
   "execution_count": null,
   "metadata": {},
   "outputs": [],
   "source": [
    "def linear_merge(list1, list2):\n",
    "    return sorted(list1+list2)"
   ]
  },
  {
   "cell_type": "markdown",
   "metadata": {},
   "source": [
    "The football.csv.file contains the results from the English Premier League.  \n",
    "\n",
    "The columns labeled 'Goals' and Goals Allowed' contain the total number of goals scored for and against each team in that season (so Arsenal scored 79 goals against opponets, and had 36 goals scored again them). Write a program to read the file, then print the name of the team with the smallest difference in 'for' and 'against' goals."
   ]
  },
  {
   "cell_type": "code",
   "execution_count": 181,
   "metadata": {},
   "outputs": [
    {
     "name": "stdout",
     "output_type": "stream",
     "text": [
      "0 ['Team', 'Games', 'Wins', 'Losses', 'Draws', 'Goals', 'Goals Allowed', 'Points']\n",
      "1 ['Arsenal', '38', '26', '9', '3', '79', '36', '87']\n",
      "2 ['Liverpool', '38', '24', '8', '6', '67', '30', '80']\n",
      "3 ['Manchester United', '38', '24', '5', '9', '87', '45', '77']\n",
      "4 ['Newcastle', '38', '21', '8', '9', '74', '52', '71']\n",
      "5 ['Leeds', '38', '18', '12', '8', '53', '37', '66']\n",
      "6 ['Chelsea', '38', '17', '13', '8', '66', '38', '64']\n",
      "7 ['West_Ham', '38', '15', '8', '15', '48', '57', '53']\n",
      "8 ['Aston_Villa', '38', '12', '14', '12', '46', '47', '50']\n",
      "9 ['Tottenham', '38', '14', '8', '16', '49', '53', '50']\n",
      "10 ['Blackburn', '38', '12', '10', '16', '55', '51', '46']\n",
      "11 ['Southampton', '38', '12', '9', '17', '46', '54', '45']\n",
      "12 ['Middlesbrough', '38', '12', '9', '17', '35', '47', '45']\n",
      "13 ['Fulham', '38', '10', '14', '14', '36', '44', '44']\n",
      "14 ['Charlton', '38', '10', '14', '14', '38', '49', '44']\n",
      "15 ['Everton', '38', '11', '10', '17', '45', '57', '43']\n",
      "16 ['Bolton', '38', '9', '13', '16', '44', '62', '40']\n",
      "17 ['Sunderland', '38', '10', '10', '18', '29', '51', '40']\n",
      "18 ['Ipswich', '38', '9', '9', '20', '41', '64', '36']\n",
      "19 ['Derby', '38', '8', '6', '24', '33', '63', '30']\n",
      "20 ['Leicester', '38', '5', '13', '20', '30', '64', '28']\n"
     ]
    }
   ],
   "source": [
    "# Working File\n",
    "import csv\n",
    "with open('football1.csv', 'r') as file:\n",
    "    reader = csv.reader(file, delimiter = ',')\n",
    "    for index, row in enumerate(reader):\n",
    "        print(index, row)\n",
    "       "
   ]
  },
  {
   "cell_type": "code",
   "execution_count": 131,
   "metadata": {},
   "outputs": [
    {
     "name": "stdout",
     "output_type": "stream",
     "text": [
      "['Arsenal', '38', '26', '9', '3', '79', '36', '87', '43']\n",
      "['Liverpool', '38', '24', '8', '6', '67', '30', '80', '37']\n",
      "['Manchester United', '38', '24', '5', '9', '87', '45', '77', '42']\n",
      "['Newcastle', '38', '21', '8', '9', '74', '52', '71', '22']\n",
      "['Leeds', '38', '18', '12', '8', '53', '37', '66', '16']\n",
      "['Chelsea', '38', '17', '13', '8', '66', '38', '64', '28']\n",
      "['West_Ham', '38', '15', '8', '15', '48', '57', '53', '9']\n",
      "['Aston_Villa', '38', '12', '14', '12', '46', '47', '50', '1']\n",
      "['Tottenham', '38', '14', '8', '16', '49', '53', '50', '4']\n",
      "['Blackburn', '38', '12', '10', '16', '55', '51', '46', '4']\n",
      "['Southampton', '38', '12', '9', '17', '46', '54', '45', '8']\n",
      "['Middlesbrough', '38', '12', '9', '17', '35', '47', '45', '12']\n",
      "['Fulham', '38', '10', '14', '14', '36', '44', '44', '8']\n",
      "['Charlton', '38', '10', '14', '14', '38', '49', '44', '11']\n",
      "['Everton', '38', '11', '10', '17', '45', '57', '43', '12']\n",
      "['Bolton', '38', '9', '13', '16', '44', '62', '40', '18']\n",
      "['Sunderland', '38', '10', '10', '18', '29', '51', '40', '22']\n",
      "['Ipswich', '38', '9', '9', '20', '41', '64', '36', '23']\n",
      "['Derby', '38', '8', '6', '24', '33', '63', '30', '30']\n",
      "['Leicester', '38', '5', '13', '20', '30', '64', '28', '34']\n"
     ]
    }
   ],
   "source": [
    "import csv\n",
    "with open('football1.csv', 'r', newline='') as file:\n",
    "    has_header = csv.Sniffer().sniff(file.read(1024))\n",
    "    file.seek(0)\n",
    "    reader = csv.reader(file, has_header)\n",
    "    if has_header:\n",
    "        next(reader)\n",
    "    #for index, row in enumerate(reader):\n",
    "        #print(index, row)\n",
    "\n",
    "    for index, row in enumerate(reader):\n",
    "        goals_scored = int(row[5])\n",
    "        goals_against = int(row[6])\n",
    "        diff = str(abs(goals_scored - goals_against))\n",
    "        row.append(diff)\n",
    "        \n",
    "        print(row)\n",
    "    #column = 1\n",
    "    #datatype = float\n",
    "    #data = (datatype(row[column]) for row in reader)\n",
    "    #least_value = min(data)\n",
    "    #print(least_value)\n",
    "    #print (data)"
   ]
  },
  {
   "cell_type": "code",
   "execution_count": 178,
   "metadata": {},
   "outputs": [
    {
     "data": {
      "text/plain": [
       "[['Team',\n",
       "  'Games',\n",
       "  'Wins',\n",
       "  'Losses',\n",
       "  'Draws',\n",
       "  'Goals',\n",
       "  'Goals Allowed',\n",
       "  'Points'],\n",
       " ['Arsenal', '38', '26', '9', '3', '79', '36', '87'],\n",
       " ['Liverpool', '38', '24', '8', '6', '67', '30', '80'],\n",
       " ['Manchester United', '38', '24', '5', '9', '87', '45', '77'],\n",
       " ['Newcastle', '38', '21', '8', '9', '74', '52', '71'],\n",
       " ['Leeds', '38', '18', '12', '8', '53', '37', '66'],\n",
       " ['Chelsea', '38', '17', '13', '8', '66', '38', '64'],\n",
       " ['West_Ham', '38', '15', '8', '15', '48', '57', '53'],\n",
       " ['Aston_Villa', '38', '12', '14', '12', '46', '47', '50'],\n",
       " ['Tottenham', '38', '14', '8', '16', '49', '53', '50'],\n",
       " ['Blackburn', '38', '12', '10', '16', '55', '51', '46'],\n",
       " ['Southampton', '38', '12', '9', '17', '46', '54', '45'],\n",
       " ['Middlesbrough', '38', '12', '9', '17', '35', '47', '45'],\n",
       " ['Fulham', '38', '10', '14', '14', '36', '44', '44'],\n",
       " ['Charlton', '38', '10', '14', '14', '38', '49', '44'],\n",
       " ['Everton', '38', '11', '10', '17', '45', '57', '43'],\n",
       " ['Bolton', '38', '9', '13', '16', '44', '62', '40'],\n",
       " ['Sunderland', '38', '10', '10', '18', '29', '51', '40'],\n",
       " ['Ipswich', '38', '9', '9', '20', '41', '64', '36'],\n",
       " ['Derby', '38', '8', '6', '24', '33', '63', '30'],\n",
       " ['Leicester', '38', '5', '13', '20', '30', '64', '28']]"
      ]
     },
     "execution_count": 178,
     "metadata": {},
     "output_type": "execute_result"
    }
   ],
   "source": [
    "import csv\n",
    "def read_data(filename):\n",
    "    with open(filename, 'r') as file:\n",
    "        parsed_data = [row for row in csv.reader(file.read().splitlines())]\n",
    "    return parsed_data\n",
    "read_data('football.csv')\n",
    "\n",
    "def get_index_with_min_abs_score_difference(parsed_data):\n",
    "    parsed_data.pop(0)\n",
    "    goals_scored = [row[5] for row in parsed_data]\n",
    "    goals_against = [row[6] for row in parsed_data]\n",
    "    diff = [abs(float(x) - float(y)) for x,y in zip(goals_scored, goals_against)]\n",
    "    index_value = diff.index(min(diff))\n",
    "    return index_value    \n",
    "\n",
    "def get_team(index_value, parsed_data):\n",
    "    return parsed_data[index_value][0]"
   ]
  },
  {
   "cell_type": "markdown",
   "metadata": {},
   "source": [
    "#### Big-O notation is used to classify the worst-case \"speed\" of an algorithm by looking at the order of magnitiude of execution time. Read this write-up on Big-O notation.  \n",
    "\n",
    "https://chrisalbon.com/computer_science/algorithms/big-o_notation/  \n",
    "http://bigocheatsheet.com/  \n",
    "https://stackoverflow.com/questions/487258/what-is-a-plain-english-explanation-of-big-o-notation  \n",
    "\n",
    "Suppose I have two _sorted_ lists, which I want to merge. Length of the first list is **n**, second is **m**.  \n",
    "What is the O for this merge below:  \n",
    "``` \n",
    "def merge_one(list1, list2):  \n",
    "    return sorted(list1 + list2)\n",
    "```"
   ]
  },
  {
   "cell_type": "markdown",
   "metadata": {},
   "source": [
    "What is the O for this merge below:  \n",
    "```\n",
    "def merge_two(list1, list2)\n",
    "    l = [ ]\n",
    "    while list 1 and list 2:\n",
    "    if list1[0] < list2:\n",
    "        1.append(list1.pop(0)\n",
    "    else:\n",
    "        l.append(list2.pop(0))\n",
    "    return l + list1 + list2\n",
    "```"
   ]
  },
  {
   "cell_type": "code",
   "execution_count": 221,
   "metadata": {},
   "outputs": [
    {
     "name": "stdout",
     "output_type": "stream",
     "text": [
      "[2, 3, 6, 6, 12, 63, 63, 234, 234]\n",
      "[1, 2, 5, 64, 74, 234, 323, 345]\n"
     ]
    }
   ],
   "source": [
    "list1 = [2,3,6,12,63,234,63,234,6]\n",
    "list2 = [1,74,2,5,323,64,345,234]\n",
    "list1.sort()\n",
    "list2.sort()\n",
    "print(list1)\n",
    "print(list2)\n",
    "\n",
    "l = [1,2,2,3,4,6,6            ]\n",
    "list1 = [ 3, 6, 6, 12, 63, 63, 234, 234]\n",
    "list2 = [5, 64, 74, 234, 323, 345]"
   ]
  },
  {
   "cell_type": "code",
   "execution_count": 245,
   "metadata": {},
   "outputs": [
    {
     "ename": "SyntaxError",
     "evalue": "invalid syntax (<ipython-input-245-bde13a49f4e3>, line 6)",
     "output_type": "error",
     "traceback": [
      "\u001b[0;36m  File \u001b[0;32m\"<ipython-input-245-bde13a49f4e3>\"\u001b[0;36m, line \u001b[0;32m6\u001b[0m\n\u001b[0;31m    else:\u001b[0m\n\u001b[0m       ^\u001b[0m\n\u001b[0;31mSyntaxError\u001b[0m\u001b[0;31m:\u001b[0m invalid syntax\n"
     ]
    }
   ],
   "source": [
    "def merge_two(list1, list2):\n",
    "    l = [ ]\n",
    "    while list1 and list2:\n",
    "        if list1[0] < list2[0]:\n",
    "            l.append(list1.pop(0)\n",
    "        else:\n",
    "            l.append(list2.pop(0))\n",
    "    return l + list1 + list2\n",
    "                 "
   ]
  },
  {
   "cell_type": "code",
   "execution_count": 243,
   "metadata": {},
   "outputs": [
    {
     "name": "stdout",
     "output_type": "stream",
     "text": [
      "[0, 1, 2, 3, 4, 5, 6, 7, 8, 9, 10, 11, 12, 13, 14, 15, 16, 17, 18, 19, 20, 21, 22, 23, 24, 25, 26, 27, 28, 29, 30, 31, 32, 33, 34, 35, 36, 37, 38, 39, 40, 41, 42, 43, 44, 45, 46, 47, 48, 49, 50, 51, 52, 53, 54, 55, 56, 57, 58, 59, 60, 61, 62, 63, 64, 65, 66, 67, 68, 69, 70, 71, 72, 73, 74, 75, 76, 77, 78, 79, 80, 81, 82, 83, 84, 85, 86, 87, 88, 89, 90, 91, 92, 93, 94, 95, 96, 97, 98, 99]\n"
     ]
    }
   ],
   "source": [
    "n = list(range(100))\n",
    "print(n)"
   ]
  },
  {
   "cell_type": "code",
   "execution_count": 244,
   "metadata": {},
   "outputs": [
    {
     "data": {
      "text/plain": [
       "'Number of operations: 100'"
      ]
     },
     "execution_count": 244,
     "metadata": {},
     "output_type": "execute_result"
    }
   ],
   "source": [
    "def linear(n):\n",
    "    operations = []\n",
    "    for item in n:\n",
    "        operations.append(item)\n",
    "    return 'Number of operations: ' + str(len(operations))\n",
    "linear(n)"
   ]
  },
  {
   "cell_type": "markdown",
   "metadata": {},
   "source": [
    "#### Question 35: [Complexity] (sets) interesecting\n",
    "\n",
    "Given two **non-sorted** lists (both of size n), we are interested in creating the intersection. Here's a function that does that:  \n",
    "\n",
    "```\n",
    "def intersect_lists_1(list1, list2):\n",
    "    return [x for x in list1 if x in list2] \n",
    "```\n",
    "\n",
    "Time complexity for this function is O(n*n), that is O(n^2).  \n",
    "\n",
    "Write a function that does this in O(n) time.   \n",
    "\n",
    "HINT: You can use python's built-in data structure 'set'."
   ]
  },
  {
   "cell_type": "code",
   "execution_count": 219,
   "metadata": {},
   "outputs": [
    {
     "data": {
      "text/plain": [
       "{2, 4}"
      ]
     },
     "execution_count": 219,
     "metadata": {},
     "output_type": "execute_result"
    }
   ],
   "source": [
    "def intersect_lists_2(list1, list2):\n",
    "    return set(list1).intersection(set(list2))\n",
    "intersect_lists_2([2,3,4],[2,4,5,6])"
   ]
  },
  {
   "cell_type": "markdown",
   "metadata": {},
   "source": [
    "#### Question 36: [Complexity] (sets) Removing duplicates from a list\n",
    "\n",
    "Given a non-sorted list with duplicate elements, return the unique elements in that list in a data structure of your choice.  \n",
    "\n",
    "Your function should have linear time complexity (**O(n)**)"
   ]
  },
  {
   "cell_type": "code",
   "execution_count": 246,
   "metadata": {},
   "outputs": [],
   "source": [
    "def remove_duplicates(somelist):\n",
    "    return set(somelist)"
   ]
  },
  {
   "cell_type": "code",
   "execution_count": 249,
   "metadata": {},
   "outputs": [
    {
     "name": "stdout",
     "output_type": "stream",
     "text": [
      "{'first': 123, 'second': 456, 'third': {1: 1, 2: 2}, 'fourth': {1: 1, 2: 2}, 'fifth': 555}\n"
     ]
    }
   ],
   "source": [
    "a= {'first': 123, 'second': 456, 'third': {1:1,2:2}, 'fourth': {1:1, 2:2}, 'fifth': 555}\n",
    "print(a)"
   ]
  },
  {
   "cell_type": "code",
   "execution_count": 258,
   "metadata": {},
   "outputs": [
    {
     "name": "stdout",
     "output_type": "stream",
     "text": [
      "{'fifth': 555,\n",
      " 'first': 123,\n",
      " 'fourth': {1: 1,\n",
      "            2: 2},\n",
      " 'second': 456,\n",
      " 'third': {1: 1,\n",
      "           2: 2}}\n",
      "{'fifth': 555,\n",
      " 'first': 123,\n",
      " 'fourth': {1: 1,\n",
      "            2: 2},\n",
      " 'second': 456,\n",
      " 'third': {1: 1,\n",
      "           2: 2}}\n"
     ]
    }
   ],
   "source": [
    "import pprint as pp\n",
    "pprint.pprint(a, width = 2)\n",
    "pp.pprint(a,width = 2)"
   ]
  },
  {
   "cell_type": "code",
   "execution_count": 260,
   "metadata": {},
   "outputs": [
    {
     "ename": "NameError",
     "evalue": "name 'found_count' is not defined",
     "output_type": "error",
     "traceback": [
      "\u001b[0;31m---------------------------------------------------------------------------\u001b[0m",
      "\u001b[0;31mNameError\u001b[0m                                 Traceback (most recent call last)",
      "\u001b[0;32m<ipython-input-260-f69892f6c26a>\u001b[0m in \u001b[0;36m<module>\u001b[0;34m\u001b[0m\n\u001b[1;32m      3\u001b[0m \u001b[0mfood_count\u001b[0m \u001b[0;34m=\u001b[0m \u001b[0mdict\u001b[0m\u001b[0;34m(\u001b[0m\u001b[0;34m)\u001b[0m\u001b[0;34m\u001b[0m\u001b[0;34m\u001b[0m\u001b[0m\n\u001b[1;32m      4\u001b[0m \u001b[0;32mfor\u001b[0m \u001b[0mfood\u001b[0m \u001b[0;32min\u001b[0m \u001b[0mfood_list\u001b[0m\u001b[0;34m:\u001b[0m\u001b[0;34m\u001b[0m\u001b[0;34m\u001b[0m\u001b[0m\n\u001b[0;32m----> 5\u001b[0;31m     \u001b[0mfound_count\u001b[0m\u001b[0;34m[\u001b[0m\u001b[0mfood\u001b[0m\u001b[0;34m]\u001b[0m \u001b[0;34m+=\u001b[0m \u001b[0;36m1\u001b[0m\u001b[0;34m\u001b[0m\u001b[0;34m\u001b[0m\u001b[0m\n\u001b[0m\u001b[1;32m      6\u001b[0m \u001b[0;34m\u001b[0m\u001b[0m\n",
      "\u001b[0;31mNameError\u001b[0m: name 'found_count' is not defined"
     ]
    }
   ],
   "source": [
    "food_list = 'spam spam spam spam spam spam eggs spam'.split()\n",
    "\n",
    "food_count = dict()\n",
    "for food in food_list:\n",
    "    found_count[food] += 1\n",
    "    "
   ]
  },
  {
   "cell_type": "code",
   "execution_count": 263,
   "metadata": {},
   "outputs": [
    {
     "name": "stdout",
     "output_type": "stream",
     "text": [
      "defaultdict(<class 'int'>, {'spam': 7, 'eggs': 1})\n"
     ]
    }
   ],
   "source": [
    "from collections import defaultdict\n",
    "\n",
    "food_count = defaultdict(int)\n",
    "for food in food_list:\n",
    "    food_count[food] += 1 \n",
    "print(food_count)"
   ]
  },
  {
   "cell_type": "code",
   "execution_count": 264,
   "metadata": {},
   "outputs": [
    {
     "name": "stdout",
     "output_type": "stream",
     "text": [
      "0 It's\n",
      "1 only\n",
      "2 a\n",
      "3 model\n"
     ]
    }
   ],
   "source": [
    "mylist = [\"It's\", 'only', 'a', 'model']\n",
    "\n",
    "for index, item in enumerate(mylist):\n",
    "    print(index, item)"
   ]
  },
  {
   "cell_type": "code",
   "execution_count": null,
   "metadata": {},
   "outputs": [],
   "source": []
  }
 ],
 "metadata": {
  "kernelspec": {
   "display_name": "Python 3",
   "language": "python",
   "name": "python3"
  },
  "language_info": {
   "codemirror_mode": {
    "name": "ipython",
    "version": 3
   },
   "file_extension": ".py",
   "mimetype": "text/x-python",
   "name": "python",
   "nbconvert_exporter": "python",
   "pygments_lexer": "ipython3",
   "version": "3.7.3"
  }
 },
 "nbformat": 4,
 "nbformat_minor": 2
}
