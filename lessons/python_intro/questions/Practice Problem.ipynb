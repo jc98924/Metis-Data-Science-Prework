{
 "cells": [
  {
   "cell_type": "markdown",
   "metadata": {},
   "source": [
    "### Description\n",
    "\n",
    "Main LO:\n",
    "- Use loop and enumerate to operate on sequential data\n",
    "\n",
    "Lesson LOs:\n",
    "- Write a python function\n",
    "- Document code effectively\n",
    "- How to handle errors using try-except or raise\n",
    "\n",
    "There's a special magic formula that assigns a numeric value to a row of digits like `6057`. It works as follows:\n",
    "- add the value of every odd digit multiplied by its position in the row\n",
    "- subtract the value of every even digit multiplied by 5\n",
    "    \n",
    "Using `6057` we would get a value of `6*1 - 0*5 + 5*3 - 7*5 = -14` because six is the first digit (odd), zero is the second digit (even), five is the third digit (odd) and seven is the fourth digit (even).\n",
    "\n",
    "Write a function called `calc_row_value()` that calculates the value of a row of numbers. It should take one argument, `input_string` that is a string.\n",
    "\n",
    "In addition, the function you write should meet the following:\n",
    "- It should make use of the `enumerate()` function.\n",
    "- It should raise a ValueError when the input is not a string.\n",
    "\n",
    "```python\n",
    ">>> calc_row_value('6057')\n",
    "-14\n",
    ">>> calc_row_value('12345')\n",
    "5\n",
    "```\n"
   ]
  },
  {
   "cell_type": "code",
   "execution_count": 44,
   "metadata": {},
   "outputs": [
    {
     "name": "stdout",
     "output_type": "stream",
     "text": [
      "Please enter a digit:\n",
      "6057\n"
     ]
    },
    {
     "data": {
      "text/plain": [
       "-14"
      ]
     },
     "execution_count": 44,
     "metadata": {},
     "output_type": "execute_result"
    }
   ],
   "source": [
    "def calc_row_value(input_string):\n",
    "    if type(input_string) != str:\n",
    "        raise ValueError('Input should be a string!')\n",
    "    \n",
    "    string_conv = [int(c) for c in input_string if c.isdecimal()]\n",
    "    magic_number = 0\n",
    "    for index, digit, in enumerate(string_conv):\n",
    "        math_index = index + 1\n",
    "        if math_index % 2 != 0:\n",
    "            magic_number += digit * math_index\n",
    "        else:\n",
    "            magic_number -= digit * 5\n",
    "    return magic_number\n",
    "\n",
    "\n",
    "input_string = input('Please enter a digit:\\n')\n",
    "if type(int(input_string)) != int:\n",
    "    raise ValueError('You must enter a number!')\n",
    "calc_row_value(input_string)\n",
    "    \n"
   ]
  },
  {
   "cell_type": "code",
   "execution_count": 49,
   "metadata": {},
   "outputs": [],
   "source": [
    "\n",
    "def calc_row_value(input_string):\n",
    "    \"\"\"\n",
    "    This function takes a string input, converts it to an integer value and\n",
    "    then outputs a \"new value\".\n",
    "    ---\n",
    "    args:\n",
    "        input_string(str): input string\n",
    "    returns:\n",
    "        calc_value (int): output value\n",
    "    \"\"\"\n",
    "\n",
    "    if type(input_string) != str:\n",
    "        raise ValueError(\"input_string must be a string type!\")\n",
    "    \n",
    "    str_conv = [int(d) for d in input_string if d.isdecimal()]\n",
    "    calc_value = 0\n",
    "    for index, digit in enumerate(str_conv):\n",
    "        num_index = index + 1\n",
    "        if num_index % 2 != 0:\n",
    "            calc_value += digit * num_index\n",
    "        else:\n",
    "            calc_value -= digit * 5\n",
    "    return calc_value\n"
   ]
  },
  {
   "cell_type": "code",
   "execution_count": 50,
   "metadata": {},
   "outputs": [
    {
     "data": {
      "text/plain": [
       "-14"
      ]
     },
     "execution_count": 50,
     "metadata": {},
     "output_type": "execute_result"
    }
   ],
   "source": [
    "calc_row_value('6057')"
   ]
  },
  {
   "cell_type": "code",
   "execution_count": null,
   "metadata": {},
   "outputs": [],
   "source": []
  }
 ],
 "metadata": {
  "kernelspec": {
   "display_name": "Python 3",
   "language": "python",
   "name": "python3"
  },
  "language_info": {
   "codemirror_mode": {
    "name": "ipython",
    "version": 3
   },
   "file_extension": ".py",
   "mimetype": "text/x-python",
   "name": "python",
   "nbconvert_exporter": "python",
   "pygments_lexer": "ipython3",
   "version": "3.7.3"
  }
 },
 "nbformat": 4,
 "nbformat_minor": 2
}
